{
 "cells": [
  {
   "cell_type": "markdown",
   "metadata": {},
   "source": [
    "# **Problem Statement**\n",
    "About 40% of our transactions are cashless - meaning we are charging clients and paying majority of the charge to the driver every week (withholding our 15-25% commissions).\n",
    "\n",
    "We always pay the driver and take the risk for collecting the funds from the client. \n",
    "\n",
    "Luckily, we have basic filters to block users from making multiple fraudulent transactions and find groups of fraudulent users using the same devices or cards. \n"
   ]
  },
  {
   "cell_type": "markdown",
   "metadata": {},
   "source": [
    "# **Goal**\n",
    "Stop first timer from doing fraudulent transaction and develop a top 2-5 solotions will help reduce the percent of failed payments."
   ]
  },
  {
   "cell_type": "markdown",
   "metadata": {},
   "source": [
    "# Goals & Business Questions\n",
    "\n",
    "* Findout the pattern in the fraudulent transaction\n",
    "  * what are the type of fraud transaction?\n",
    "  * What day and weekday do fraud transaction usually happened?\n",
    "  * When does fraud transaction usually happened?\n",
    "  * Device identification?\n",
    "  * Country\n",
    "  \n",
    "* Findout What model of machine learning that's the best recall score to   predict a fraud transaction\n",
    "  * What is the best machine learning model to predict fraud transaction"
   ]
  },
  {
   "cell_type": "markdown",
   "metadata": {},
   "source": [
    "# Data Dictionaries and MetaData\n",
    "* created – time when the 1st time order request was created.\n",
    "* device_name – name of the device used to make order\n",
    "* device_os_version – version of the device OS\n",
    "* country – 2 char country code\n",
    "* city_id – internal system city ID (not relevant which one is which)\n",
    "* lat – latitude of the pickup spot for the order\n",
    "* lng – longitude of the pickup spot for the order\n",
    "* real_destination_lat – latitude of the destination for the order\n",
    "*  real_destination_lng – longitude of the destination for the order\n",
    "*  user_id – internal user ID\n",
    "*  order_id – internal order ID\n",
    "* order_try_id – internal order try ID (order tries happen before client and driver are matched to an order)\n",
    "*  distance – driver distance to the client pickup location, in meters\n",
    "*  ride_distance – trip distance in meters\n",
    "*  price – price charged to client, can be lower than “ride_price” if client had a discount, currencies vary and are undefined\n",
    "*  ride_price – calculated price of the final trip, currencies vary and are undefined\n",
    "*  price_review_status – “Price review” is when we send “ride_price” to be audited by human to check for system errors. 99% of orders are final and should have “ok” already set. There might be some that are still in pending states, most likely you can discard those.\n",
    "*  price_review_reason – automatic or manual reason for the price review to be requested.\n",
    "*  is_successful_payment – 1 means order was charged successfully, 0 mean it has failed (including after all attempts to re-charge)\n",
    "*  name – card details, irrelevant.\n",
    "*  card_bin – details on card BIN.\n",
    "*  failed_attempts – number of failed order attempts before this 1st finished order.\n"
   ]
  },
  {
   "cell_type": "code",
   "execution_count": 106,
   "metadata": {},
   "outputs": [],
   "source": [
    "# import python packages \n",
    "import pandas as pd  \n",
    "import numpy as np  \n",
    "import sidetable as stb\n",
    "import seaborn as sns\n",
    "import matplotlib.pyplot as plt"
   ]
  },
  {
   "cell_type": "code",
   "execution_count": 107,
   "metadata": {},
   "outputs": [],
   "source": [
    "# load dataset from file\n",
    "data = pd.read_csv('1st_adyen_rides-success-and-fail.csv')"
   ]
  },
  {
   "cell_type": "code",
   "execution_count": 108,
   "metadata": {},
   "outputs": [
    {
     "data": {
      "text/html": [
       "<div>\n",
       "<style scoped>\n",
       "    .dataframe tbody tr th:only-of-type {\n",
       "        vertical-align: middle;\n",
       "    }\n",
       "\n",
       "    .dataframe tbody tr th {\n",
       "        vertical-align: top;\n",
       "    }\n",
       "\n",
       "    .dataframe thead th {\n",
       "        text-align: right;\n",
       "    }\n",
       "</style>\n",
       "<table border=\"1\" class=\"dataframe\">\n",
       "  <thead>\n",
       "    <tr style=\"text-align: right;\">\n",
       "      <th></th>\n",
       "      <th>created</th>\n",
       "      <th>device_name</th>\n",
       "      <th>device_os_version</th>\n",
       "      <th>country</th>\n",
       "      <th>city_id</th>\n",
       "      <th>lat</th>\n",
       "      <th>lng</th>\n",
       "      <th>real_destination_lat</th>\n",
       "      <th>real_destination_lng</th>\n",
       "      <th>user_id</th>\n",
       "      <th>...</th>\n",
       "      <th>distance</th>\n",
       "      <th>ride_distance</th>\n",
       "      <th>price</th>\n",
       "      <th>ride_price</th>\n",
       "      <th>price_review_status</th>\n",
       "      <th>price_review_reason</th>\n",
       "      <th>is_successful_payment</th>\n",
       "      <th>name</th>\n",
       "      <th>card_bin</th>\n",
       "      <th>failed_attempts</th>\n",
       "    </tr>\n",
       "  </thead>\n",
       "  <tbody>\n",
       "    <tr>\n",
       "      <th>0</th>\n",
       "      <td>2016-01-23 23:10:07</td>\n",
       "      <td>motorolaXT1562</td>\n",
       "      <td>motorola6.0.1</td>\n",
       "      <td>ee</td>\n",
       "      <td>2.0</td>\n",
       "      <td>58.378220</td>\n",
       "      <td>26.710402</td>\n",
       "      <td>58.363243</td>\n",
       "      <td>26.737696</td>\n",
       "      <td>218</td>\n",
       "      <td>...</td>\n",
       "      <td>773</td>\n",
       "      <td>3017</td>\n",
       "      <td>4.5</td>\n",
       "      <td>4.5</td>\n",
       "      <td>ok</td>\n",
       "      <td>NaN</td>\n",
       "      <td>1</td>\n",
       "      <td>**** 0810</td>\n",
       "      <td>NaN</td>\n",
       "      <td>0</td>\n",
       "    </tr>\n",
       "    <tr>\n",
       "      <th>1</th>\n",
       "      <td>2016-05-04 06:01:32</td>\n",
       "      <td>iPhone6</td>\n",
       "      <td>iOS10.3.3</td>\n",
       "      <td>ee</td>\n",
       "      <td>1.0</td>\n",
       "      <td>59.424130</td>\n",
       "      <td>24.646359</td>\n",
       "      <td>59.397548</td>\n",
       "      <td>24.660957</td>\n",
       "      <td>266</td>\n",
       "      <td>...</td>\n",
       "      <td>43</td>\n",
       "      <td>4241</td>\n",
       "      <td>4.4</td>\n",
       "      <td>4.4</td>\n",
       "      <td>ok</td>\n",
       "      <td>NaN</td>\n",
       "      <td>1</td>\n",
       "      <td>**** 9115</td>\n",
       "      <td>NaN</td>\n",
       "      <td>0</td>\n",
       "    </tr>\n",
       "    <tr>\n",
       "      <th>2</th>\n",
       "      <td>2016-08-27 16:42:22</td>\n",
       "      <td>HTCHTC 10</td>\n",
       "      <td>HTC7.0</td>\n",
       "      <td>ee</td>\n",
       "      <td>1.0</td>\n",
       "      <td>59.413508</td>\n",
       "      <td>24.743706</td>\n",
       "      <td>59.448500</td>\n",
       "      <td>24.804887</td>\n",
       "      <td>551</td>\n",
       "      <td>...</td>\n",
       "      <td>1654</td>\n",
       "      <td>6347</td>\n",
       "      <td>7.2</td>\n",
       "      <td>7.2</td>\n",
       "      <td>ok</td>\n",
       "      <td>NaN</td>\n",
       "      <td>1</td>\n",
       "      <td>**** 0634</td>\n",
       "      <td>516903.0</td>\n",
       "      <td>0</td>\n",
       "    </tr>\n",
       "  </tbody>\n",
       "</table>\n",
       "<p>3 rows × 22 columns</p>\n",
       "</div>"
      ],
      "text/plain": [
       "               created     device_name device_os_version country  city_id  \\\n",
       "0  2016-01-23 23:10:07  motorolaXT1562     motorola6.0.1      ee      2.0   \n",
       "1  2016-05-04 06:01:32         iPhone6         iOS10.3.3      ee      1.0   \n",
       "2  2016-08-27 16:42:22       HTCHTC 10            HTC7.0      ee      1.0   \n",
       "\n",
       "         lat        lng  real_destination_lat  real_destination_lng  user_id  \\\n",
       "0  58.378220  26.710402             58.363243             26.737696      218   \n",
       "1  59.424130  24.646359             59.397548             24.660957      266   \n",
       "2  59.413508  24.743706             59.448500             24.804887      551   \n",
       "\n",
       "   ...  distance  ride_distance  price  ride_price  price_review_status  \\\n",
       "0  ...       773           3017    4.5         4.5           ok           \n",
       "1  ...        43           4241    4.4         4.4           ok           \n",
       "2  ...      1654           6347    7.2         7.2           ok           \n",
       "\n",
       "   price_review_reason is_successful_payment       name  card_bin  \\\n",
       "0                  NaN                     1  **** 0810       NaN   \n",
       "1                  NaN                     1  **** 9115       NaN   \n",
       "2                  NaN                     1  **** 0634  516903.0   \n",
       "\n",
       "  failed_attempts  \n",
       "0               0  \n",
       "1               0  \n",
       "2               0  \n",
       "\n",
       "[3 rows x 22 columns]"
      ]
     },
     "execution_count": 108,
     "metadata": {},
     "output_type": "execute_result"
    }
   ],
   "source": [
    "# a quick overview of the dataset\n",
    "data.head(3)"
   ]
  },
  {
   "cell_type": "code",
   "execution_count": 109,
   "metadata": {},
   "outputs": [
    {
     "data": {
      "text/plain": [
       "(304053, 22)"
      ]
     },
     "execution_count": 109,
     "metadata": {},
     "output_type": "execute_result"
    }
   ],
   "source": [
    "# number of rows and colnums in the dataset\n",
    "data.shape"
   ]
  },
  {
   "cell_type": "code",
   "execution_count": 110,
   "metadata": {},
   "outputs": [
    {
     "data": {
      "text/plain": [
       "Index(['created', 'device_name', 'device_os_version', 'country', 'city_id',\n",
       "       'lat', 'lng', 'real_destination_lat', 'real_destination_lng', 'user_id',\n",
       "       'order_id', 'order_try_id', 'distance', 'ride_distance', 'price',\n",
       "       'ride_price', 'price_review_status', 'price_review_reason',\n",
       "       'is_successful_payment', 'name', 'card_bin', 'failed_attempts'],\n",
       "      dtype='object')"
      ]
     },
     "execution_count": 110,
     "metadata": {},
     "output_type": "execute_result"
    }
   ],
   "source": [
    "# names of columns \n",
    "data.columns"
   ]
  },
  {
   "cell_type": "code",
   "execution_count": 111,
   "metadata": {},
   "outputs": [
    {
     "name": "stdout",
     "output_type": "stream",
     "text": [
      "<class 'pandas.core.frame.DataFrame'>\n",
      "RangeIndex: 304053 entries, 0 to 304052\n",
      "Data columns (total 22 columns):\n",
      " #   Column                 Non-Null Count   Dtype  \n",
      "---  ------                 --------------   -----  \n",
      " 0   created                304053 non-null  object \n",
      " 1   device_name            304053 non-null  object \n",
      " 2   device_os_version      304053 non-null  object \n",
      " 3   country                304052 non-null  object \n",
      " 4   city_id                303734 non-null  float64\n",
      " 5   lat                    304053 non-null  float64\n",
      " 6   lng                    304053 non-null  float64\n",
      " 7   real_destination_lat   304026 non-null  float64\n",
      " 8   real_destination_lng   304026 non-null  float64\n",
      " 9   user_id                304053 non-null  int64  \n",
      " 10  order_id               304053 non-null  int64  \n",
      " 11  order_try_id           304053 non-null  int64  \n",
      " 12  distance               304053 non-null  int64  \n",
      " 13  ride_distance          304053 non-null  int64  \n",
      " 14  price                  304053 non-null  float64\n",
      " 15  ride_price             304053 non-null  float64\n",
      " 16  price_review_status    304053 non-null  object \n",
      " 17  price_review_reason    1108 non-null    object \n",
      " 18  is_successful_payment  304053 non-null  int64  \n",
      " 19  name                   304053 non-null  object \n",
      " 20  card_bin               297475 non-null  float64\n",
      " 21  failed_attempts        304053 non-null  int64  \n",
      "dtypes: float64(8), int64(7), object(7)\n",
      "memory usage: 51.0+ MB\n"
     ]
    }
   ],
   "source": [
    "# the type of the columns can be found out as follows and we have some missing values\n",
    "data.info()"
   ]
  },
  {
   "cell_type": "code",
   "execution_count": 112,
   "metadata": {
    "jupyter": {
     "source_hidden": true
    },
    "tags": []
   },
   "outputs": [],
   "source": [
    "# convert created from string to datetime then create dates and hour features\n",
    "data.created = pd.to_datetime(data['created'])\n",
    "data['hour'] = data['created'].dt.hour\n",
    "data['day'] = data['created'].dt.day\n",
    "data['month'] = data['created'].dt.month\n",
    "data['weekday'] = data['created'].dt.weekday"
   ]
  },
  {
   "cell_type": "code",
   "execution_count": 113,
   "metadata": {},
   "outputs": [
    {
     "data": {
      "text/plain": [
       "1    225020\n",
       "0     79033\n",
       "Name: is_successful_payment, dtype: int64"
      ]
     },
     "execution_count": 113,
     "metadata": {},
     "output_type": "execute_result"
    }
   ],
   "source": [
    "# there are 79033 failed payments which were fraudulent and 225020 seccussful payment which were legitimate in our data.\n",
    "data['is_successful_payment'].value_counts()"
   ]
  },
  {
   "cell_type": "code",
   "execution_count": 114,
   "metadata": {
    "scrolled": true
   },
   "outputs": [
    {
     "data": {
      "text/html": [
       "<div>\n",
       "<style scoped>\n",
       "    .dataframe tbody tr th:only-of-type {\n",
       "        vertical-align: middle;\n",
       "    }\n",
       "\n",
       "    .dataframe tbody tr th {\n",
       "        vertical-align: top;\n",
       "    }\n",
       "\n",
       "    .dataframe thead th {\n",
       "        text-align: right;\n",
       "    }\n",
       "</style>\n",
       "<table border=\"1\" class=\"dataframe\">\n",
       "  <thead>\n",
       "    <tr style=\"text-align: right;\">\n",
       "      <th></th>\n",
       "      <th>city_id</th>\n",
       "      <th>lat</th>\n",
       "      <th>lng</th>\n",
       "      <th>real_destination_lat</th>\n",
       "      <th>real_destination_lng</th>\n",
       "      <th>user_id</th>\n",
       "      <th>order_id</th>\n",
       "      <th>order_try_id</th>\n",
       "      <th>distance</th>\n",
       "      <th>ride_distance</th>\n",
       "      <th>price</th>\n",
       "      <th>ride_price</th>\n",
       "      <th>card_bin</th>\n",
       "      <th>failed_attempts</th>\n",
       "      <th>hour</th>\n",
       "      <th>day</th>\n",
       "      <th>month</th>\n",
       "      <th>weekday</th>\n",
       "    </tr>\n",
       "    <tr>\n",
       "      <th>is_successful_payment</th>\n",
       "      <th></th>\n",
       "      <th></th>\n",
       "      <th></th>\n",
       "      <th></th>\n",
       "      <th></th>\n",
       "      <th></th>\n",
       "      <th></th>\n",
       "      <th></th>\n",
       "      <th></th>\n",
       "      <th></th>\n",
       "      <th></th>\n",
       "      <th></th>\n",
       "      <th></th>\n",
       "      <th></th>\n",
       "      <th></th>\n",
       "      <th></th>\n",
       "      <th></th>\n",
       "      <th></th>\n",
       "    </tr>\n",
       "  </thead>\n",
       "  <tbody>\n",
       "    <tr>\n",
       "      <th>0</th>\n",
       "      <td>133.781737</td>\n",
       "      <td>25.568931</td>\n",
       "      <td>18.704488</td>\n",
       "      <td>25.569995</td>\n",
       "      <td>18.704380</td>\n",
       "      <td>1.131575e+06</td>\n",
       "      <td>1.318709e+07</td>\n",
       "      <td>1.354593e+07</td>\n",
       "      <td>1660.214353</td>\n",
       "      <td>9317.228525</td>\n",
       "      <td>84.117434</td>\n",
       "      <td>132.184240</td>\n",
       "      <td>490884.903226</td>\n",
       "      <td>0.525502</td>\n",
       "      <td>13.826769</td>\n",
       "      <td>15.794251</td>\n",
       "      <td>6.493136</td>\n",
       "      <td>3.348753</td>\n",
       "    </tr>\n",
       "    <tr>\n",
       "      <th>1</th>\n",
       "      <td>70.676221</td>\n",
       "      <td>31.809105</td>\n",
       "      <td>24.468779</td>\n",
       "      <td>31.810082</td>\n",
       "      <td>24.470396</td>\n",
       "      <td>1.036689e+06</td>\n",
       "      <td>1.413214e+07</td>\n",
       "      <td>1.450879e+07</td>\n",
       "      <td>1613.986206</td>\n",
       "      <td>9462.326531</td>\n",
       "      <td>316.900482</td>\n",
       "      <td>330.191812</td>\n",
       "      <td>495035.773431</td>\n",
       "      <td>0.318798</td>\n",
       "      <td>13.141854</td>\n",
       "      <td>15.575882</td>\n",
       "      <td>6.065830</td>\n",
       "      <td>3.285397</td>\n",
       "    </tr>\n",
       "  </tbody>\n",
       "</table>\n",
       "</div>"
      ],
      "text/plain": [
       "                          city_id        lat        lng  real_destination_lat  \\\n",
       "is_successful_payment                                                           \n",
       "0                      133.781737  25.568931  18.704488             25.569995   \n",
       "1                       70.676221  31.809105  24.468779             31.810082   \n",
       "\n",
       "                       real_destination_lng       user_id      order_id  \\\n",
       "is_successful_payment                                                     \n",
       "0                                 18.704380  1.131575e+06  1.318709e+07   \n",
       "1                                 24.470396  1.036689e+06  1.413214e+07   \n",
       "\n",
       "                       order_try_id     distance  ride_distance       price  \\\n",
       "is_successful_payment                                                         \n",
       "0                      1.354593e+07  1660.214353    9317.228525   84.117434   \n",
       "1                      1.450879e+07  1613.986206    9462.326531  316.900482   \n",
       "\n",
       "                       ride_price       card_bin  failed_attempts       hour  \\\n",
       "is_successful_payment                                                          \n",
       "0                      132.184240  490884.903226         0.525502  13.826769   \n",
       "1                      330.191812  495035.773431         0.318798  13.141854   \n",
       "\n",
       "                             day     month   weekday  \n",
       "is_successful_payment                                 \n",
       "0                      15.794251  6.493136  3.348753  \n",
       "1                      15.575882  6.065830  3.285397  "
      ]
     },
     "execution_count": 114,
     "metadata": {},
     "output_type": "execute_result"
    }
   ],
   "source": [
    "# let us get a sense of the numbers across these two classes:\n",
    "\n",
    "data.groupby('is_successful_payment').mean()\n",
    "\n",
    "# The average sum of distance and failed attempts which were fraudulent payment are bigger than that of those \n",
    "# of the valid transactions."
   ]
  },
  {
   "cell_type": "code",
   "execution_count": 115,
   "metadata": {},
   "outputs": [
    {
     "name": "stdout",
     "output_type": "stream",
     "text": [
      "Ratio of successful payment: 74.01%\n",
      "Ratio of failed payment: 25.99%\n"
     ]
    }
   ],
   "source": [
    "# print the ratio of payments\n",
    "ratio_payment = round(data['is_successful_payment'].value_counts()/len(data.index) *100, 2)\n",
    "print(f'Ratio of successful payment: {ratio_payment[1]}%\\nRatio of failed payment: {ratio_payment[0]}%')\n",
    "\n",
    "# there seems to approximately 26% of the failed paymanets and that's one-fourth of the entire paymenet."
   ]
  },
  {
   "cell_type": "code",
   "execution_count": 116,
   "metadata": {},
   "outputs": [
    {
     "data": {
      "text/html": [
       "<div>\n",
       "<style scoped>\n",
       "    .dataframe tbody tr th:only-of-type {\n",
       "        vertical-align: middle;\n",
       "    }\n",
       "\n",
       "    .dataframe tbody tr th {\n",
       "        vertical-align: top;\n",
       "    }\n",
       "\n",
       "    .dataframe thead th {\n",
       "        text-align: right;\n",
       "    }\n",
       "</style>\n",
       "<table border=\"1\" class=\"dataframe\">\n",
       "  <thead>\n",
       "    <tr style=\"text-align: right;\">\n",
       "      <th></th>\n",
       "      <th>country</th>\n",
       "      <th>price_review_reason</th>\n",
       "      <th>is_successful_payment</th>\n",
       "      <th>ride_distance</th>\n",
       "      <th>ride_price</th>\n",
       "    </tr>\n",
       "  </thead>\n",
       "  <tbody>\n",
       "    <tr>\n",
       "      <th>0</th>\n",
       "      <td>hu</td>\n",
       "      <td>price_too_high</td>\n",
       "      <td>0</td>\n",
       "      <td>221703</td>\n",
       "      <td>64210.0</td>\n",
       "    </tr>\n",
       "    <tr>\n",
       "      <th>1</th>\n",
       "      <td>hu</td>\n",
       "      <td>price_too_high</td>\n",
       "      <td>0</td>\n",
       "      <td>174775</td>\n",
       "      <td>49770.0</td>\n",
       "    </tr>\n",
       "    <tr>\n",
       "      <th>4</th>\n",
       "      <td>rs</td>\n",
       "      <td>price_too_high</td>\n",
       "      <td>0</td>\n",
       "      <td>54451</td>\n",
       "      <td>28500.0</td>\n",
       "    </tr>\n",
       "    <tr>\n",
       "      <th>5</th>\n",
       "      <td>ng</td>\n",
       "      <td>price_too_high</td>\n",
       "      <td>0</td>\n",
       "      <td>300944</td>\n",
       "      <td>28100.0</td>\n",
       "    </tr>\n",
       "    <tr>\n",
       "      <th>8</th>\n",
       "      <td>ng</td>\n",
       "      <td>price_too_high</td>\n",
       "      <td>0</td>\n",
       "      <td>192625</td>\n",
       "      <td>17100.0</td>\n",
       "    </tr>\n",
       "    <tr>\n",
       "      <th>...</th>\n",
       "      <td>...</td>\n",
       "      <td>...</td>\n",
       "      <td>...</td>\n",
       "      <td>...</td>\n",
       "      <td>...</td>\n",
       "    </tr>\n",
       "    <tr>\n",
       "      <th>1101</th>\n",
       "      <td>ng</td>\n",
       "      <td>price_too_high</td>\n",
       "      <td>0</td>\n",
       "      <td>229195</td>\n",
       "      <td>0.0</td>\n",
       "    </tr>\n",
       "    <tr>\n",
       "      <th>1102</th>\n",
       "      <td>ng</td>\n",
       "      <td>price_too_high</td>\n",
       "      <td>0</td>\n",
       "      <td>275958</td>\n",
       "      <td>0.0</td>\n",
       "    </tr>\n",
       "    <tr>\n",
       "      <th>1103</th>\n",
       "      <td>ke</td>\n",
       "      <td>price_too_high</td>\n",
       "      <td>0</td>\n",
       "      <td>355492</td>\n",
       "      <td>0.0</td>\n",
       "    </tr>\n",
       "    <tr>\n",
       "      <th>1104</th>\n",
       "      <td>ke</td>\n",
       "      <td>price_too_high</td>\n",
       "      <td>0</td>\n",
       "      <td>301941</td>\n",
       "      <td>0.0</td>\n",
       "    </tr>\n",
       "    <tr>\n",
       "      <th>1105</th>\n",
       "      <td>za</td>\n",
       "      <td>price_too_high</td>\n",
       "      <td>0</td>\n",
       "      <td>199672</td>\n",
       "      <td>0.0</td>\n",
       "    </tr>\n",
       "  </tbody>\n",
       "</table>\n",
       "<p>621 rows × 5 columns</p>\n",
       "</div>"
      ],
      "text/plain": [
       "     country          price_review_reason  is_successful_payment  \\\n",
       "0         hu  price_too_high                                   0   \n",
       "1         hu  price_too_high                                   0   \n",
       "4         rs  price_too_high                                   0   \n",
       "5         ng  price_too_high                                   0   \n",
       "8         ng  price_too_high                                   0   \n",
       "...      ...                          ...                    ...   \n",
       "1101      ng  price_too_high                                   0   \n",
       "1102      ng  price_too_high                                   0   \n",
       "1103      ke  price_too_high                                   0   \n",
       "1104      ke  price_too_high                                   0   \n",
       "1105      za  price_too_high                                   0   \n",
       "\n",
       "      ride_distance  ride_price  \n",
       "0            221703     64210.0  \n",
       "1            174775     49770.0  \n",
       "4             54451     28500.0  \n",
       "5            300944     28100.0  \n",
       "8            192625     17100.0  \n",
       "...             ...         ...  \n",
       "1101         229195         0.0  \n",
       "1102         275958         0.0  \n",
       "1103         355492         0.0  \n",
       "1104         301941         0.0  \n",
       "1105         199672         0.0  \n",
       "\n",
       "[621 rows x 5 columns]"
      ]
     },
     "execution_count": 116,
     "metadata": {},
     "output_type": "execute_result"
    }
   ],
   "source": [
    "# get the average ride price per country for failed payment\n",
    "failed_payments = pd.pivot_table(data, index=['country', 'price_review_reason', 'is_successful_payment', 'ride_distance'], aggfunc={'ride_price' : 'mean'}).sort_values(by=('ride_price'), ascending=False).round(2)\n",
    "failed_payments = failed_payments.reset_index()\n",
    "\n",
    "# split the dataframe into seven smaller dataframes based on branch\n",
    "failed_ = failed_payments.loc[failed_payments['is_successful_payment'] == 0]\n",
    "failed_"
   ]
  },
  {
   "cell_type": "code",
   "execution_count": 47,
   "metadata": {},
   "outputs": [
    {
     "data": {
      "text/html": [
       "<div>\n",
       "<style scoped>\n",
       "    .dataframe tbody tr th:only-of-type {\n",
       "        vertical-align: middle;\n",
       "    }\n",
       "\n",
       "    .dataframe tbody tr th {\n",
       "        vertical-align: top;\n",
       "    }\n",
       "\n",
       "    .dataframe thead tr th {\n",
       "        text-align: left;\n",
       "    }\n",
       "\n",
       "    .dataframe thead tr:last-of-type th {\n",
       "        text-align: right;\n",
       "    }\n",
       "</style>\n",
       "<table border=\"1\" class=\"dataframe\">\n",
       "  <thead>\n",
       "    <tr>\n",
       "      <th></th>\n",
       "      <th colspan=\"2\" halign=\"left\">ride_distance</th>\n",
       "      <th colspan=\"2\" halign=\"left\">ride_price</th>\n",
       "      <th colspan=\"2\" halign=\"left\">is_successful_payment</th>\n",
       "    </tr>\n",
       "    <tr>\n",
       "      <th></th>\n",
       "      <th>mean</th>\n",
       "      <th>count</th>\n",
       "      <th>mean</th>\n",
       "      <th>count</th>\n",
       "      <th>mean</th>\n",
       "      <th>count</th>\n",
       "    </tr>\n",
       "    <tr>\n",
       "      <th>country</th>\n",
       "      <th></th>\n",
       "      <th></th>\n",
       "      <th></th>\n",
       "      <th></th>\n",
       "      <th></th>\n",
       "      <th></th>\n",
       "    </tr>\n",
       "  </thead>\n",
       "  <tbody>\n",
       "    <tr>\n",
       "      <th>ca</th>\n",
       "      <td>10010.00</td>\n",
       "      <td>1</td>\n",
       "      <td>6100.00</td>\n",
       "      <td>1</td>\n",
       "      <td>0.00</td>\n",
       "      <td>1</td>\n",
       "    </tr>\n",
       "    <tr>\n",
       "      <th>hu</th>\n",
       "      <td>7746.58</td>\n",
       "      <td>23137</td>\n",
       "      <td>2857.73</td>\n",
       "      <td>23137</td>\n",
       "      <td>0.96</td>\n",
       "      <td>23137</td>\n",
       "    </tr>\n",
       "    <tr>\n",
       "      <th>ng</th>\n",
       "      <td>28443.22</td>\n",
       "      <td>483</td>\n",
       "      <td>2734.04</td>\n",
       "      <td>483</td>\n",
       "      <td>0.13</td>\n",
       "      <td>483</td>\n",
       "    </tr>\n",
       "    <tr>\n",
       "      <th>ke</th>\n",
       "      <td>16694.82</td>\n",
       "      <td>3427</td>\n",
       "      <td>737.16</td>\n",
       "      <td>3427</td>\n",
       "      <td>0.70</td>\n",
       "      <td>3427</td>\n",
       "    </tr>\n",
       "    <tr>\n",
       "      <th>rs</th>\n",
       "      <td>6941.17</td>\n",
       "      <td>3006</td>\n",
       "      <td>706.52</td>\n",
       "      <td>3006</td>\n",
       "      <td>0.33</td>\n",
       "      <td>3006</td>\n",
       "    </tr>\n",
       "    <tr>\n",
       "      <th>cz</th>\n",
       "      <td>9725.34</td>\n",
       "      <td>9648</td>\n",
       "      <td>178.63</td>\n",
       "      <td>9648</td>\n",
       "      <td>0.60</td>\n",
       "      <td>9648</td>\n",
       "    </tr>\n",
       "    <tr>\n",
       "      <th>ua</th>\n",
       "      <td>11975.33</td>\n",
       "      <td>7652</td>\n",
       "      <td>108.43</td>\n",
       "      <td>7652</td>\n",
       "      <td>0.45</td>\n",
       "      <td>7652</td>\n",
       "    </tr>\n",
       "    <tr>\n",
       "      <th>za</th>\n",
       "      <td>12338.69</td>\n",
       "      <td>78694</td>\n",
       "      <td>103.37</td>\n",
       "      <td>78694</td>\n",
       "      <td>0.71</td>\n",
       "      <td>78694</td>\n",
       "    </tr>\n",
       "    <tr>\n",
       "      <th>mx</th>\n",
       "      <td>17408.58</td>\n",
       "      <td>6798</td>\n",
       "      <td>96.63</td>\n",
       "      <td>6798</td>\n",
       "      <td>0.36</td>\n",
       "      <td>6798</td>\n",
       "    </tr>\n",
       "    <tr>\n",
       "      <th>gh</th>\n",
       "      <td>24318.66</td>\n",
       "      <td>56</td>\n",
       "      <td>35.38</td>\n",
       "      <td>56</td>\n",
       "      <td>0.18</td>\n",
       "      <td>56</td>\n",
       "    </tr>\n",
       "    <tr>\n",
       "      <th>eg</th>\n",
       "      <td>20554.17</td>\n",
       "      <td>501</td>\n",
       "      <td>30.55</td>\n",
       "      <td>501</td>\n",
       "      <td>0.69</td>\n",
       "      <td>501</td>\n",
       "    </tr>\n",
       "    <tr>\n",
       "      <th>pl</th>\n",
       "      <td>9607.93</td>\n",
       "      <td>6037</td>\n",
       "      <td>19.14</td>\n",
       "      <td>6037</td>\n",
       "      <td>0.50</td>\n",
       "      <td>6037</td>\n",
       "    </tr>\n",
       "    <tr>\n",
       "      <th>fi</th>\n",
       "      <td>8246.28</td>\n",
       "      <td>397</td>\n",
       "      <td>18.31</td>\n",
       "      <td>397</td>\n",
       "      <td>0.84</td>\n",
       "      <td>397</td>\n",
       "    </tr>\n",
       "    <tr>\n",
       "      <th>ro</th>\n",
       "      <td>7775.64</td>\n",
       "      <td>18127</td>\n",
       "      <td>17.28</td>\n",
       "      <td>18127</td>\n",
       "      <td>0.64</td>\n",
       "      <td>18127</td>\n",
       "    </tr>\n",
       "    <tr>\n",
       "      <th>mt</th>\n",
       "      <td>7299.56</td>\n",
       "      <td>1045</td>\n",
       "      <td>12.04</td>\n",
       "      <td>1045</td>\n",
       "      <td>0.98</td>\n",
       "      <td>1045</td>\n",
       "    </tr>\n",
       "    <tr>\n",
       "      <th>sa</th>\n",
       "      <td>24.00</td>\n",
       "      <td>1</td>\n",
       "      <td>8.00</td>\n",
       "      <td>1</td>\n",
       "      <td>0.00</td>\n",
       "      <td>1</td>\n",
       "    </tr>\n",
       "    <tr>\n",
       "      <th>ee</th>\n",
       "      <td>6808.86</td>\n",
       "      <td>43780</td>\n",
       "      <td>6.33</td>\n",
       "      <td>43780</td>\n",
       "      <td>0.91</td>\n",
       "      <td>43780</td>\n",
       "    </tr>\n",
       "    <tr>\n",
       "      <th>ge</th>\n",
       "      <td>7127.28</td>\n",
       "      <td>12795</td>\n",
       "      <td>6.11</td>\n",
       "      <td>12795</td>\n",
       "      <td>0.91</td>\n",
       "      <td>12795</td>\n",
       "    </tr>\n",
       "    <tr>\n",
       "      <th>lv</th>\n",
       "      <td>8008.98</td>\n",
       "      <td>55707</td>\n",
       "      <td>5.72</td>\n",
       "      <td>55707</td>\n",
       "      <td>0.77</td>\n",
       "      <td>55707</td>\n",
       "    </tr>\n",
       "    <tr>\n",
       "      <th>lt</th>\n",
       "      <td>6983.74</td>\n",
       "      <td>20862</td>\n",
       "      <td>5.31</td>\n",
       "      <td>20862</td>\n",
       "      <td>0.71</td>\n",
       "      <td>20862</td>\n",
       "    </tr>\n",
       "    <tr>\n",
       "      <th>sk</th>\n",
       "      <td>7535.42</td>\n",
       "      <td>4888</td>\n",
       "      <td>4.96</td>\n",
       "      <td>4888</td>\n",
       "      <td>0.54</td>\n",
       "      <td>4888</td>\n",
       "    </tr>\n",
       "    <tr>\n",
       "      <th>az</th>\n",
       "      <td>11441.74</td>\n",
       "      <td>7010</td>\n",
       "      <td>4.50</td>\n",
       "      <td>7010</td>\n",
       "      <td>0.60</td>\n",
       "      <td>7010</td>\n",
       "    </tr>\n",
       "  </tbody>\n",
       "</table>\n",
       "</div>"
      ],
      "text/plain": [
       "        ride_distance        ride_price        is_successful_payment       \n",
       "                 mean  count       mean  count                  mean  count\n",
       "country                                                                    \n",
       "ca           10010.00      1    6100.00      1                  0.00      1\n",
       "hu            7746.58  23137    2857.73  23137                  0.96  23137\n",
       "ng           28443.22    483    2734.04    483                  0.13    483\n",
       "ke           16694.82   3427     737.16   3427                  0.70   3427\n",
       "rs            6941.17   3006     706.52   3006                  0.33   3006\n",
       "cz            9725.34   9648     178.63   9648                  0.60   9648\n",
       "ua           11975.33   7652     108.43   7652                  0.45   7652\n",
       "za           12338.69  78694     103.37  78694                  0.71  78694\n",
       "mx           17408.58   6798      96.63   6798                  0.36   6798\n",
       "gh           24318.66     56      35.38     56                  0.18     56\n",
       "eg           20554.17    501      30.55    501                  0.69    501\n",
       "pl            9607.93   6037      19.14   6037                  0.50   6037\n",
       "fi            8246.28    397      18.31    397                  0.84    397\n",
       "ro            7775.64  18127      17.28  18127                  0.64  18127\n",
       "mt            7299.56   1045      12.04   1045                  0.98   1045\n",
       "sa              24.00      1       8.00      1                  0.00      1\n",
       "ee            6808.86  43780       6.33  43780                  0.91  43780\n",
       "ge            7127.28  12795       6.11  12795                  0.91  12795\n",
       "lv            8008.98  55707       5.72  55707                  0.77  55707\n",
       "lt            6983.74  20862       5.31  20862                  0.71  20862\n",
       "sk            7535.42   4888       4.96   4888                  0.54   4888\n",
       "az           11441.74   7010       4.50   7010                  0.60   7010"
      ]
     },
     "execution_count": 47,
     "metadata": {},
     "output_type": "execute_result"
    }
   ],
   "source": [
    "data[['country', 'ride_distance', 'ride_price', 'is_successful_payment']].groupby('country')\\\n",
    "  .agg(['mean','count'])\\\n",
    "    .sort_values(by=('ride_price','mean'), ascending=False).round(2)\n",
    "\n",
    "# the majority of fraud is observed are in country like NG, RS, UA, MX, GH, and SA."
   ]
  },
  {
   "cell_type": "code",
   "execution_count": 48,
   "metadata": {},
   "outputs": [
    {
     "data": {
      "text/html": [
       "<div>\n",
       "<style scoped>\n",
       "    .dataframe tbody tr th:only-of-type {\n",
       "        vertical-align: middle;\n",
       "    }\n",
       "\n",
       "    .dataframe tbody tr th {\n",
       "        vertical-align: top;\n",
       "    }\n",
       "\n",
       "    .dataframe thead tr th {\n",
       "        text-align: left;\n",
       "    }\n",
       "\n",
       "    .dataframe thead tr:last-of-type th {\n",
       "        text-align: right;\n",
       "    }\n",
       "</style>\n",
       "<table border=\"1\" class=\"dataframe\">\n",
       "  <thead>\n",
       "    <tr>\n",
       "      <th></th>\n",
       "      <th colspan=\"2\" halign=\"left\">ride_price</th>\n",
       "      <th colspan=\"2\" halign=\"left\">is_successful_payment</th>\n",
       "    </tr>\n",
       "    <tr>\n",
       "      <th></th>\n",
       "      <th>mean</th>\n",
       "      <th>count</th>\n",
       "      <th>mean</th>\n",
       "      <th>count</th>\n",
       "    </tr>\n",
       "    <tr>\n",
       "      <th>device_name</th>\n",
       "      <th></th>\n",
       "      <th></th>\n",
       "      <th></th>\n",
       "      <th></th>\n",
       "    </tr>\n",
       "  </thead>\n",
       "  <tbody>\n",
       "    <tr>\n",
       "      <th>TECNOTECNO 7C</th>\n",
       "      <td>13950.00</td>\n",
       "      <td>1</td>\n",
       "      <td>0.00</td>\n",
       "      <td>1</td>\n",
       "    </tr>\n",
       "    <tr>\n",
       "      <th>GiONEEP5 mini</th>\n",
       "      <td>10195.00</td>\n",
       "      <td>8</td>\n",
       "      <td>0.00</td>\n",
       "      <td>8</td>\n",
       "    </tr>\n",
       "    <tr>\n",
       "      <th>azumiA40C</th>\n",
       "      <td>9622.00</td>\n",
       "      <td>1</td>\n",
       "      <td>0.00</td>\n",
       "      <td>1</td>\n",
       "    </tr>\n",
       "    <tr>\n",
       "      <th>HTCHTC One XL</th>\n",
       "      <td>9571.67</td>\n",
       "      <td>3</td>\n",
       "      <td>0.33</td>\n",
       "      <td>3</td>\n",
       "    </tr>\n",
       "    <tr>\n",
       "      <th>iPad5</th>\n",
       "      <td>8910.00</td>\n",
       "      <td>1</td>\n",
       "      <td>1.00</td>\n",
       "      <td>1</td>\n",
       "    </tr>\n",
       "    <tr>\n",
       "      <th>...</th>\n",
       "      <td>...</td>\n",
       "      <td>...</td>\n",
       "      <td>...</td>\n",
       "      <td>...</td>\n",
       "    </tr>\n",
       "    <tr>\n",
       "      <th>SageRealTECNO H5</th>\n",
       "      <td>0.00</td>\n",
       "      <td>1</td>\n",
       "      <td>0.00</td>\n",
       "      <td>1</td>\n",
       "    </tr>\n",
       "    <tr>\n",
       "      <th>samsungGT-S6790N</th>\n",
       "      <td>0.00</td>\n",
       "      <td>1</td>\n",
       "      <td>0.00</td>\n",
       "      <td>1</td>\n",
       "    </tr>\n",
       "    <tr>\n",
       "      <th>samsungSM-T715C</th>\n",
       "      <td>0.00</td>\n",
       "      <td>1</td>\n",
       "      <td>0.00</td>\n",
       "      <td>1</td>\n",
       "    </tr>\n",
       "    <tr>\n",
       "      <th>LGELG-F460S</th>\n",
       "      <td>0.00</td>\n",
       "      <td>1</td>\n",
       "      <td>0.00</td>\n",
       "      <td>1</td>\n",
       "    </tr>\n",
       "    <tr>\n",
       "      <th>alpsRover</th>\n",
       "      <td>0.00</td>\n",
       "      <td>1</td>\n",
       "      <td>0.00</td>\n",
       "      <td>1</td>\n",
       "    </tr>\n",
       "  </tbody>\n",
       "</table>\n",
       "<p>4043 rows × 4 columns</p>\n",
       "</div>"
      ],
      "text/plain": [
       "                 ride_price       is_successful_payment      \n",
       "                       mean count                  mean count\n",
       "device_name                                                  \n",
       "TECNOTECNO 7C      13950.00     1                  0.00     1\n",
       "GiONEEP5 mini      10195.00     8                  0.00     8\n",
       "azumiA40C           9622.00     1                  0.00     1\n",
       "HTCHTC One XL       9571.67     3                  0.33     3\n",
       "iPad5               8910.00     1                  1.00     1\n",
       "...                     ...   ...                   ...   ...\n",
       "SageRealTECNO H5       0.00     1                  0.00     1\n",
       "samsungGT-S6790N       0.00     1                  0.00     1\n",
       "samsungSM-T715C        0.00     1                  0.00     1\n",
       "LGELG-F460S            0.00     1                  0.00     1\n",
       "alpsRover              0.00     1                  0.00     1\n",
       "\n",
       "[4043 rows x 4 columns]"
      ]
     },
     "execution_count": 48,
     "metadata": {},
     "output_type": "execute_result"
    }
   ],
   "source": [
    "data[['device_name', 'ride_price', 'is_successful_payment']].groupby('device_name')\\\n",
    "  .agg(['mean','count'])\\\n",
    "    .sort_values(by=('ride_price','mean'), ascending=False).round(2)\n",
    "\n",
    "# the majority of fraud is observed are in country like NG, RS, UA, MX, GH, and SA."
   ]
  },
  {
   "cell_type": "markdown",
   "metadata": {},
   "source": [
    "# Sampling the Data"
   ]
  },
  {
   "cell_type": "code",
   "execution_count": 49,
   "metadata": {},
   "outputs": [
    {
     "data": {
      "text/plain": [
       "0.05170151256524356"
      ]
     },
     "execution_count": 49,
     "metadata": {},
     "output_type": "execute_result"
    }
   ],
   "source": [
    "15720 / len(data.index)\n",
    "\n",
    "# From the sample size calculator we only need to use 0.05170(0.052) after rounding out of total dataframe"
   ]
  },
  {
   "cell_type": "code",
   "execution_count": 50,
   "metadata": {},
   "outputs": [],
   "source": [
    "# using this sample size calculator https://www.qualtrics.com/blog/calculating-sample-size/\n",
    "# with confidence level of 99%\n",
    "# population size of 304053\n",
    "# and margin of error of 1 % \n",
    "# the ideal sample size for this population is 15720\n",
    "\n",
    "# for this i will be using 10 % of the data as a sample \n",
    "\n",
    "sample = data.groupby('is_successful_payment').apply(lambda x: x.sample(frac=0.052))"
   ]
  },
  {
   "cell_type": "code",
   "execution_count": 51,
   "metadata": {},
   "outputs": [
    {
     "name": "stdout",
     "output_type": "stream",
     "text": [
      "Ratio of successful payment: 74.01%\n",
      "Ratio of failed payment: 25.99%\n"
     ]
    }
   ],
   "source": [
    "#round(len(sample[sample['is_successful_payment'] == 0]) / len(sample.index) *100, 2)\n",
    "print(f'Ratio of successful payment: {round(len(sample[sample[\"is_successful_payment\"] == 1]) / len(sample.index) *100, 2)}%\\nRatio of failed payment: {round(len(sample[sample[\"is_successful_payment\"] == 0]) / len(sample.index) *100, 2)}%')\n",
    "\n",
    "# total failed payments in the original and smaple dataset are the same and pretty high "
   ]
  },
  {
   "cell_type": "code",
   "execution_count": 52,
   "metadata": {},
   "outputs": [
    {
     "data": {
      "text/html": [
       "<div>\n",
       "<style scoped>\n",
       "    .dataframe tbody tr th:only-of-type {\n",
       "        vertical-align: middle;\n",
       "    }\n",
       "\n",
       "    .dataframe tbody tr th {\n",
       "        vertical-align: top;\n",
       "    }\n",
       "\n",
       "    .dataframe thead th {\n",
       "        text-align: right;\n",
       "    }\n",
       "</style>\n",
       "<table border=\"1\" class=\"dataframe\">\n",
       "  <thead>\n",
       "    <tr style=\"text-align: right;\">\n",
       "      <th></th>\n",
       "      <th></th>\n",
       "      <th>created</th>\n",
       "      <th>device_name</th>\n",
       "      <th>device_os_version</th>\n",
       "      <th>country</th>\n",
       "      <th>city_id</th>\n",
       "      <th>lat</th>\n",
       "      <th>lng</th>\n",
       "      <th>real_destination_lat</th>\n",
       "      <th>real_destination_lng</th>\n",
       "      <th>user_id</th>\n",
       "      <th>...</th>\n",
       "      <th>price_review_status</th>\n",
       "      <th>price_review_reason</th>\n",
       "      <th>is_successful_payment</th>\n",
       "      <th>name</th>\n",
       "      <th>card_bin</th>\n",
       "      <th>failed_attempts</th>\n",
       "      <th>hour</th>\n",
       "      <th>day</th>\n",
       "      <th>month</th>\n",
       "      <th>weekday</th>\n",
       "    </tr>\n",
       "    <tr>\n",
       "      <th>is_successful_payment</th>\n",
       "      <th></th>\n",
       "      <th></th>\n",
       "      <th></th>\n",
       "      <th></th>\n",
       "      <th></th>\n",
       "      <th></th>\n",
       "      <th></th>\n",
       "      <th></th>\n",
       "      <th></th>\n",
       "      <th></th>\n",
       "      <th></th>\n",
       "      <th></th>\n",
       "      <th></th>\n",
       "      <th></th>\n",
       "      <th></th>\n",
       "      <th></th>\n",
       "      <th></th>\n",
       "      <th></th>\n",
       "      <th></th>\n",
       "      <th></th>\n",
       "      <th></th>\n",
       "      <th></th>\n",
       "    </tr>\n",
       "  </thead>\n",
       "  <tbody>\n",
       "    <tr>\n",
       "      <th rowspan=\"11\" valign=\"top\">0</th>\n",
       "      <th>211876</th>\n",
       "      <td>2017-07-27 19:27:13</td>\n",
       "      <td>samsungSM-G950F</td>\n",
       "      <td>samsung7.0</td>\n",
       "      <td>lv</td>\n",
       "      <td>3.0</td>\n",
       "      <td>56.952519</td>\n",
       "      <td>24.063406</td>\n",
       "      <td>56.948020</td>\n",
       "      <td>24.107085</td>\n",
       "      <td>2190839</td>\n",
       "      <td>...</td>\n",
       "      <td>ok</td>\n",
       "      <td>NaN</td>\n",
       "      <td>0</td>\n",
       "      <td>**** 8260</td>\n",
       "      <td>492057.0</td>\n",
       "      <td>0</td>\n",
       "      <td>19</td>\n",
       "      <td>27</td>\n",
       "      <td>7</td>\n",
       "      <td>3</td>\n",
       "    </tr>\n",
       "    <tr>\n",
       "      <th>216321</th>\n",
       "      <td>2017-01-16 06:49:59</td>\n",
       "      <td>iPhone5</td>\n",
       "      <td>iOS10.3.1</td>\n",
       "      <td>za</td>\n",
       "      <td>54.0</td>\n",
       "      <td>-26.183951</td>\n",
       "      <td>28.025171</td>\n",
       "      <td>-26.200140</td>\n",
       "      <td>28.039652</td>\n",
       "      <td>1056736</td>\n",
       "      <td>...</td>\n",
       "      <td>ok</td>\n",
       "      <td>NaN</td>\n",
       "      <td>0</td>\n",
       "      <td>**** 7743</td>\n",
       "      <td>522250.0</td>\n",
       "      <td>0</td>\n",
       "      <td>6</td>\n",
       "      <td>16</td>\n",
       "      <td>1</td>\n",
       "      <td>0</td>\n",
       "    </tr>\n",
       "    <tr>\n",
       "      <th>110379</th>\n",
       "      <td>2017-05-19 20:24:59</td>\n",
       "      <td>samsungGT-I9060I</td>\n",
       "      <td>samsung4.4.4</td>\n",
       "      <td>lv</td>\n",
       "      <td>278.0</td>\n",
       "      <td>55.866622</td>\n",
       "      <td>26.523251</td>\n",
       "      <td>55.866559</td>\n",
       "      <td>26.523304</td>\n",
       "      <td>1721233</td>\n",
       "      <td>...</td>\n",
       "      <td>ok</td>\n",
       "      <td>NaN</td>\n",
       "      <td>0</td>\n",
       "      <td>**** 9852</td>\n",
       "      <td>557368.0</td>\n",
       "      <td>1</td>\n",
       "      <td>20</td>\n",
       "      <td>19</td>\n",
       "      <td>5</td>\n",
       "      <td>4</td>\n",
       "    </tr>\n",
       "    <tr>\n",
       "      <th>241789</th>\n",
       "      <td>2017-07-28 13:12:09</td>\n",
       "      <td>samsungGT-I9190</td>\n",
       "      <td>samsung4.2.2</td>\n",
       "      <td>za</td>\n",
       "      <td>54.0</td>\n",
       "      <td>-26.101389</td>\n",
       "      <td>28.054140</td>\n",
       "      <td>-26.129511</td>\n",
       "      <td>28.069749</td>\n",
       "      <td>2068113</td>\n",
       "      <td>...</td>\n",
       "      <td>ok</td>\n",
       "      <td>NaN</td>\n",
       "      <td>0</td>\n",
       "      <td>**** 9540</td>\n",
       "      <td>484162.0</td>\n",
       "      <td>0</td>\n",
       "      <td>13</td>\n",
       "      <td>28</td>\n",
       "      <td>7</td>\n",
       "      <td>4</td>\n",
       "    </tr>\n",
       "    <tr>\n",
       "      <th>95926</th>\n",
       "      <td>2017-02-13 15:32:51</td>\n",
       "      <td>iPhone6,1</td>\n",
       "      <td>iOS10.0.1</td>\n",
       "      <td>mx</td>\n",
       "      <td>317.0</td>\n",
       "      <td>19.346395</td>\n",
       "      <td>-99.146314</td>\n",
       "      <td>19.397257</td>\n",
       "      <td>-99.257650</td>\n",
       "      <td>1171804</td>\n",
       "      <td>...</td>\n",
       "      <td>ok</td>\n",
       "      <td>NaN</td>\n",
       "      <td>0</td>\n",
       "      <td>**** 2499</td>\n",
       "      <td>520416.0</td>\n",
       "      <td>2</td>\n",
       "      <td>15</td>\n",
       "      <td>13</td>\n",
       "      <td>2</td>\n",
       "      <td>0</td>\n",
       "    </tr>\n",
       "    <tr>\n",
       "      <th>...</th>\n",
       "      <td>...</td>\n",
       "      <td>...</td>\n",
       "      <td>...</td>\n",
       "      <td>...</td>\n",
       "      <td>...</td>\n",
       "      <td>...</td>\n",
       "      <td>...</td>\n",
       "      <td>...</td>\n",
       "      <td>...</td>\n",
       "      <td>...</td>\n",
       "      <td>...</td>\n",
       "      <td>...</td>\n",
       "      <td>...</td>\n",
       "      <td>...</td>\n",
       "      <td>...</td>\n",
       "      <td>...</td>\n",
       "      <td>...</td>\n",
       "      <td>...</td>\n",
       "      <td>...</td>\n",
       "      <td>...</td>\n",
       "      <td>...</td>\n",
       "    </tr>\n",
       "    <tr>\n",
       "      <th>219424</th>\n",
       "      <td>2017-06-17 00:35:20</td>\n",
       "      <td>iPhone6</td>\n",
       "      <td>iOS10.3.1</td>\n",
       "      <td>lt</td>\n",
       "      <td>9.0</td>\n",
       "      <td>54.688704</td>\n",
       "      <td>25.279907</td>\n",
       "      <td>54.717326</td>\n",
       "      <td>25.284678</td>\n",
       "      <td>1902506</td>\n",
       "      <td>...</td>\n",
       "      <td>ok</td>\n",
       "      <td>NaN</td>\n",
       "      <td>0</td>\n",
       "      <td>**** 9463</td>\n",
       "      <td>516744.0</td>\n",
       "      <td>0</td>\n",
       "      <td>0</td>\n",
       "      <td>17</td>\n",
       "      <td>6</td>\n",
       "      <td>5</td>\n",
       "    </tr>\n",
       "    <tr>\n",
       "      <th>132876</th>\n",
       "      <td>2017-05-16 13:58:05</td>\n",
       "      <td>HuaweiMLA-TL10</td>\n",
       "      <td>Huawei4.2.2</td>\n",
       "      <td>ua</td>\n",
       "      <td>158.0</td>\n",
       "      <td>50.441237</td>\n",
       "      <td>30.516226</td>\n",
       "      <td>50.438217</td>\n",
       "      <td>30.475835</td>\n",
       "      <td>1673180</td>\n",
       "      <td>...</td>\n",
       "      <td>ok</td>\n",
       "      <td>NaN</td>\n",
       "      <td>0</td>\n",
       "      <td>**** 2423</td>\n",
       "      <td>473118.0</td>\n",
       "      <td>1</td>\n",
       "      <td>13</td>\n",
       "      <td>16</td>\n",
       "      <td>5</td>\n",
       "      <td>1</td>\n",
       "    </tr>\n",
       "    <tr>\n",
       "      <th>23876</th>\n",
       "      <td>2016-11-20 19:57:44</td>\n",
       "      <td>LGENexus 5X</td>\n",
       "      <td>LGE6.0</td>\n",
       "      <td>lt</td>\n",
       "      <td>9.0</td>\n",
       "      <td>54.713684</td>\n",
       "      <td>25.271920</td>\n",
       "      <td>54.704470</td>\n",
       "      <td>25.185523</td>\n",
       "      <td>587462</td>\n",
       "      <td>...</td>\n",
       "      <td>ok</td>\n",
       "      <td>NaN</td>\n",
       "      <td>0</td>\n",
       "      <td>**** 5185</td>\n",
       "      <td>554399.0</td>\n",
       "      <td>0</td>\n",
       "      <td>19</td>\n",
       "      <td>20</td>\n",
       "      <td>11</td>\n",
       "      <td>6</td>\n",
       "    </tr>\n",
       "    <tr>\n",
       "      <th>48215</th>\n",
       "      <td>2016-08-06 22:47:56</td>\n",
       "      <td>samsungSM-G903F</td>\n",
       "      <td>samsung5.1.1</td>\n",
       "      <td>lv</td>\n",
       "      <td>3.0</td>\n",
       "      <td>56.947996</td>\n",
       "      <td>24.016849</td>\n",
       "      <td>56.960794</td>\n",
       "      <td>24.132165</td>\n",
       "      <td>673483</td>\n",
       "      <td>...</td>\n",
       "      <td>ok</td>\n",
       "      <td>NaN</td>\n",
       "      <td>0</td>\n",
       "      <td>**** 5295</td>\n",
       "      <td>420573.0</td>\n",
       "      <td>0</td>\n",
       "      <td>22</td>\n",
       "      <td>6</td>\n",
       "      <td>8</td>\n",
       "      <td>5</td>\n",
       "    </tr>\n",
       "    <tr>\n",
       "      <th>41539</th>\n",
       "      <td>2016-09-01 21:34:27</td>\n",
       "      <td>iPhone6,2</td>\n",
       "      <td>iOS9.3.4</td>\n",
       "      <td>cz</td>\n",
       "      <td>271.0</td>\n",
       "      <td>50.028928</td>\n",
       "      <td>14.389409</td>\n",
       "      <td>50.099555</td>\n",
       "      <td>14.401838</td>\n",
       "      <td>619503</td>\n",
       "      <td>...</td>\n",
       "      <td>ok</td>\n",
       "      <td>NaN</td>\n",
       "      <td>0</td>\n",
       "      <td>**** 9468</td>\n",
       "      <td>516892.0</td>\n",
       "      <td>0</td>\n",
       "      <td>21</td>\n",
       "      <td>1</td>\n",
       "      <td>9</td>\n",
       "      <td>3</td>\n",
       "    </tr>\n",
       "  </tbody>\n",
       "</table>\n",
       "<p>4110 rows × 26 columns</p>\n",
       "</div>"
      ],
      "text/plain": [
       "                                         created       device_name  \\\n",
       "is_successful_payment                                                \n",
       "0                     211876 2017-07-27 19:27:13   samsungSM-G950F   \n",
       "                      216321 2017-01-16 06:49:59           iPhone5   \n",
       "                      110379 2017-05-19 20:24:59  samsungGT-I9060I   \n",
       "                      241789 2017-07-28 13:12:09   samsungGT-I9190   \n",
       "                      95926  2017-02-13 15:32:51         iPhone6,1   \n",
       "...                                          ...               ...   \n",
       "                      219424 2017-06-17 00:35:20           iPhone6   \n",
       "                      132876 2017-05-16 13:58:05    HuaweiMLA-TL10   \n",
       "                      23876  2016-11-20 19:57:44       LGENexus 5X   \n",
       "                      48215  2016-08-06 22:47:56   samsungSM-G903F   \n",
       "                      41539  2016-09-01 21:34:27         iPhone6,2   \n",
       "\n",
       "                             device_os_version country  city_id        lat  \\\n",
       "is_successful_payment                                                        \n",
       "0                     211876        samsung7.0      lv      3.0  56.952519   \n",
       "                      216321         iOS10.3.1      za     54.0 -26.183951   \n",
       "                      110379      samsung4.4.4      lv    278.0  55.866622   \n",
       "                      241789      samsung4.2.2      za     54.0 -26.101389   \n",
       "                      95926          iOS10.0.1      mx    317.0  19.346395   \n",
       "...                                        ...     ...      ...        ...   \n",
       "                      219424         iOS10.3.1      lt      9.0  54.688704   \n",
       "                      132876       Huawei4.2.2      ua    158.0  50.441237   \n",
       "                      23876             LGE6.0      lt      9.0  54.713684   \n",
       "                      48215       samsung5.1.1      lv      3.0  56.947996   \n",
       "                      41539           iOS9.3.4      cz    271.0  50.028928   \n",
       "\n",
       "                                    lng  real_destination_lat  \\\n",
       "is_successful_payment                                           \n",
       "0                     211876  24.063406             56.948020   \n",
       "                      216321  28.025171            -26.200140   \n",
       "                      110379  26.523251             55.866559   \n",
       "                      241789  28.054140            -26.129511   \n",
       "                      95926  -99.146314             19.397257   \n",
       "...                                 ...                   ...   \n",
       "                      219424  25.279907             54.717326   \n",
       "                      132876  30.516226             50.438217   \n",
       "                      23876   25.271920             54.704470   \n",
       "                      48215   24.016849             56.960794   \n",
       "                      41539   14.389409             50.099555   \n",
       "\n",
       "                              real_destination_lng  user_id  ...  \\\n",
       "is_successful_payment                                        ...   \n",
       "0                     211876             24.107085  2190839  ...   \n",
       "                      216321             28.039652  1056736  ...   \n",
       "                      110379             26.523304  1721233  ...   \n",
       "                      241789             28.069749  2068113  ...   \n",
       "                      95926             -99.257650  1171804  ...   \n",
       "...                                            ...      ...  ...   \n",
       "                      219424             25.284678  1902506  ...   \n",
       "                      132876             30.475835  1673180  ...   \n",
       "                      23876              25.185523   587462  ...   \n",
       "                      48215              24.132165   673483  ...   \n",
       "                      41539              14.401838   619503  ...   \n",
       "\n",
       "                              price_review_status  price_review_reason  \\\n",
       "is_successful_payment                                                    \n",
       "0                     211876           ok                          NaN   \n",
       "                      216321           ok                          NaN   \n",
       "                      110379           ok                          NaN   \n",
       "                      241789           ok                          NaN   \n",
       "                      95926            ok                          NaN   \n",
       "...                                           ...                  ...   \n",
       "                      219424           ok                          NaN   \n",
       "                      132876           ok                          NaN   \n",
       "                      23876            ok                          NaN   \n",
       "                      48215            ok                          NaN   \n",
       "                      41539            ok                          NaN   \n",
       "\n",
       "                              is_successful_payment       name  card_bin  \\\n",
       "is_successful_payment                                                      \n",
       "0                     211876                      0  **** 8260  492057.0   \n",
       "                      216321                      0  **** 7743  522250.0   \n",
       "                      110379                      0  **** 9852  557368.0   \n",
       "                      241789                      0  **** 9540  484162.0   \n",
       "                      95926                       0  **** 2499  520416.0   \n",
       "...                                             ...        ...       ...   \n",
       "                      219424                      0  **** 9463  516744.0   \n",
       "                      132876                      0  **** 2423  473118.0   \n",
       "                      23876                       0  **** 5185  554399.0   \n",
       "                      48215                       0  **** 5295  420573.0   \n",
       "                      41539                       0  **** 9468  516892.0   \n",
       "\n",
       "                              failed_attempts hour day  month weekday  \n",
       "is_successful_payment                                                  \n",
       "0                     211876                0   19  27      7       3  \n",
       "                      216321                0    6  16      1       0  \n",
       "                      110379                1   20  19      5       4  \n",
       "                      241789                0   13  28      7       4  \n",
       "                      95926                 2   15  13      2       0  \n",
       "...                                       ...  ...  ..    ...     ...  \n",
       "                      219424                0    0  17      6       5  \n",
       "                      132876                1   13  16      5       1  \n",
       "                      23876                 0   19  20     11       6  \n",
       "                      48215                 0   22   6      8       5  \n",
       "                      41539                 0   21   1      9       3  \n",
       "\n",
       "[4110 rows x 26 columns]"
      ]
     },
     "execution_count": 52,
     "metadata": {},
     "output_type": "execute_result"
    }
   ],
   "source": [
    "## taking a look at our target variable \n",
    "## fraud transaction here\n",
    "\n",
    "sample[sample['is_successful_payment'] == 0]\n",
    "\n",
    "# we can already see a pattern for the sample dataset that is fraud\n",
    "# most of the devices used are iPhone and number of failed attemps is zero meaning payment was never initiated\n",
    "\n",
    "# * note sample"
   ]
  },
  {
   "cell_type": "markdown",
   "metadata": {},
   "source": [
    "# Data Visualization"
   ]
  },
  {
   "cell_type": "code",
   "execution_count": 53,
   "metadata": {
    "scrolled": true
   },
   "outputs": [
    {
     "data": {
      "text/plain": [
       "Text(0.5, 1.0, 'Distribution of Payments, (1 = Successful)')"
      ]
     },
     "execution_count": 53,
     "metadata": {},
     "output_type": "execute_result"
    },
    {
     "data": {
      "image/png": "[encoded data removed]",
      "text/plain": [
       "<Figure size 720x432 with 1 Axes>"
      ]
     },
     "metadata": {
      "needs_background": "light"
     },
     "output_type": "display_data"
    }
   ],
   "source": [
    "# bar plot of successful/failed payments \n",
    "data.is_successful_payment.value_counts().plot(kind='bar')\n",
    "plt.title('Distribution of Payments, (1 = Successful)')"
   ]
  },
  {
   "cell_type": "code",
   "execution_count": 54,
   "metadata": {},
   "outputs": [
    {
     "data": {
      "image/png": "[encoded data removed]",
      "text/plain": [
       "<Figure size 720x432 with 1 Axes>"
      ]
     },
     "metadata": {
      "needs_background": "light"
     },
     "output_type": "display_data"
    }
   ],
   "source": [
    "successful = data[data['is_successful_payment'] == 1]['ride_price'].mean()\n",
    "failed = data[data['is_successful_payment'] == 0]['ride_price'].mean()\n",
    "xs  = [successful, failed]\n",
    "ys = ['Successful','Failed']\n",
    "plt.bar(ys, xs, 0.6, align='center')\n",
    "plt.xlabel('Outcome')\n",
    "plt.ylabel('Ride Price')\n",
    "plt.title('Distribution of Ride Price')\n",
    "plt.show()"
   ]
  },
  {
   "cell_type": "code",
   "execution_count": 55,
   "metadata": {},
   "outputs": [
    {
     "data": {
      "image/png": "[encoded data removed]",
      "text/plain": [
       "<Figure size 1440x1080 with 20 Axes>"
      ]
     },
     "metadata": {
      "needs_background": "light"
     },
     "output_type": "display_data"
    }
   ],
   "source": [
    "# histogram of numeric variables\n",
    "%matplotlib inline\n",
    "import matplotlib.pyplot as plt\n",
    "data.hist(bins=50, figsize=(20,15))\n",
    "plt.savefig(\"attribute_histogram_plots\")\n",
    "plt.show()"
   ]
  },
  {
   "cell_type": "code",
   "execution_count": 56,
   "metadata": {},
   "outputs": [
    {
     "data": {
      "image/png": "[encoded data removed]",
      "text/plain": [
       "<Figure size 1440x720 with 2 Axes>"
      ]
     },
     "metadata": {
      "needs_background": "light"
     },
     "output_type": "display_data"
    }
   ],
   "source": [
    "# the variable we are going to predict is the “fraud”. \n",
    "# so let’s look at how much each independent variable correlates with this dependent variable.\n",
    "\n",
    "plt.rcParams['figure.figsize'] = (20.0, 10.0)\n",
    "sns.heatmap(data.corr(), annot=True);\n",
    "\n",
    "# small negative correlations between the features \"city_id\" and \"is_successful_payment\""
   ]
  },
  {
   "cell_type": "code",
   "execution_count": 57,
   "metadata": {
    "scrolled": true
   },
   "outputs": [
    {
     "data": {
      "text/plain": [
       "is_successful_payment    1.000000\n",
       "real_destination_lng     0.128429\n",
       "lng                      0.128388\n",
       "price                    0.109027\n",
       "ride_price               0.092169\n",
       "lat                      0.076552\n",
       "real_destination_lat     0.076551\n",
       "order_id                 0.063576\n",
       "order_try_id             0.063269\n",
       "card_bin                 0.035967\n",
       "ride_distance            0.005902\n",
       "day                     -0.010686\n",
       "distance                -0.011093\n",
       "weekday                 -0.014805\n",
       "hour                    -0.047347\n",
       "month                   -0.055811\n",
       "user_id                 -0.071490\n",
       "failed_attempts         -0.085659\n",
       "city_id                 -0.229731\n",
       "Name: is_successful_payment, dtype: float64"
      ]
     },
     "execution_count": 57,
     "metadata": {},
     "output_type": "execute_result"
    }
   ],
   "source": [
    "corr_matrix = data.corr()\n",
    "corr_matrix['is_successful_payment'].sort_values(ascending=False)\n",
    "\n",
    "# the feature “is_successful_payment” tends to increase when the features “real_destination_lng”, “lng”, and “price” go up. \n",
    "# The feature “is_successful_payment” tends to decrease when the features “distance”, “user_id ”, “failed_attempts”, and “city_id” go down"
   ]
  },
  {
   "cell_type": "code",
   "execution_count": 58,
   "metadata": {},
   "outputs": [
    {
     "data": {
      "image/png": "[encoded data removed]",
      "text/plain": [
       "<Figure size 720x432 with 1 Axes>"
      ]
     },
     "metadata": {
      "needs_background": "light"
     },
     "output_type": "display_data"
    }
   ],
   "source": [
    "plt.rcParams['figure.figsize'] = (10.0, 6.0)\n",
    "data.plot(kind=\"scatter\", x='city_id', y='is_successful_payment', alpha=0.5)\n",
    "plt.savefig('scatter.png')\n",
    "\n",
    "# the correlation is indeed very weak; you can clearly see that the points are too dispersed."
   ]
  },
  {
   "cell_type": "code",
   "execution_count": 59,
   "metadata": {},
   "outputs": [],
   "source": [
    "successful = data[data['is_successful_payment'] == 1]\n",
    "failed = data[data['is_successful_payment'] == 0]"
   ]
  },
  {
   "cell_type": "code",
   "execution_count": 60,
   "metadata": {},
   "outputs": [
    {
     "data": {
      "image/png": "[encoded data removed]",
      "text/plain": [
       "<Figure size 1080x432 with 2 Axes>"
      ]
     },
     "metadata": {
      "needs_background": "light"
     },
     "output_type": "display_data"
    }
   ],
   "source": [
    "plt.figure(figsize = (15, 6))\n",
    "plt.subplot(1,2,1)\n",
    "sns.countplot(failed['hour'], palette = 'viridis')\n",
    "plt.title('Failed')\n",
    "plt.subplot(1,2,2)\n",
    "sns.countplot(successful['hour'], palette = 'inferno')\n",
    "plt.title('Successful');\n",
    "\n",
    "# compare to the successful transactions, most of the fraudlent transactions happened between 1pm and 11pm"
   ]
  },
  {
   "cell_type": "code",
   "execution_count": 61,
   "metadata": {
    "scrolled": true
   },
   "outputs": [
    {
     "data": {
      "image/png": "[encoded data removed]",
      "text/plain": [
       "<Figure size 1440x576 with 2 Axes>"
      ]
     },
     "metadata": {
      "needs_background": "light"
     },
     "output_type": "display_data"
    }
   ],
   "source": [
    "successful_side_table = successful.stb.freq(['hour'], cum_cols=False)\n",
    "failed_side_table = failed.stb.freq(['hour'], cum_cols=False)\n",
    "\n",
    "fig, ax1 = plt.subplots(figsize = (20,8))\n",
    "ax2 = ax1.twinx()\n",
    "\n",
    "ax1.bar(successful_side_table['hour'] - 0.3, successful_side_table['percent'], color = '#ff6961',width = 0.3)\n",
    "ax1.set_xlabel('Hour')\n",
    "ax1.set_ylabel('Successful', color = '#ff6961', size = 15)\n",
    "ax2.bar(failed_side_table['hour'] , failed_side_table['percent'], width = 0.3, color = '#363195')\n",
    "\n",
    "ax2.set_ylabel('Failed', size = 15, color = '#363195')\n",
    "ax1.set_xticks(np.arange(24) - 0.2)\n",
    "ax1.set_xticklabels(np.arange(0,25))\n",
    "plt.legend(['Failed'])\n",
    "\n",
    "plt.show()\n",
    "\n",
    "# from our analysis before it shows that the fraud transaction are usually constant during any time of the day \n",
    "# the percentage of fraud transaction is somewhere from 3 - 6 % in any time of the day \n",
    "# the  highest percentage of fraud transaction happened at 5 pm \n",
    "\n"
   ]
  },
  {
   "cell_type": "code",
   "execution_count": 62,
   "metadata": {},
   "outputs": [],
   "source": [
    "# Median Transaction amount per hour\n",
    "failed_step_median = failed.groupby('hour').median()"
   ]
  },
  {
   "cell_type": "code",
   "execution_count": 63,
   "metadata": {
    "scrolled": true
   },
   "outputs": [
    {
     "data": {
      "image/png": "[encoded data removed]",
      "text/plain": [
       "<Figure size 1440x576 with 2 Axes>"
      ]
     },
     "metadata": {
      "needs_background": "light"
     },
     "output_type": "display_data"
    }
   ],
   "source": [
    "fig, ax1 = plt.subplots(figsize = (20,8))\n",
    "ax2 = ax1.twinx()\n",
    "\n",
    "\n",
    "ax1.bar(failed_side_table['hour'], failed_side_table['percent'], color = '#ff6961', alpha = 0.7)\n",
    "ax1.set_xlabel('Hour')\n",
    "ax1.set_ylabel('Number of transaction in (%)', color = '#ff6961', size = 15)\n",
    "ax2.plot(failed_step_median.index , failed_step_median['ride_price'], color = '#008000')\n",
    "\n",
    "ax2.set_ylabel('Median ride price fraud transaction', size = 15, color = '#008000')\n",
    "ax1.set_xticks(np.arange(24))\n",
    "ax1.set_xticklabels(np.arange(0,25))\n",
    "\n",
    "plt.title('Failed Transaction')\n",
    "\n",
    "\n",
    "plt.show()"
   ]
  },
  {
   "cell_type": "code",
   "execution_count": 64,
   "metadata": {},
   "outputs": [
    {
     "data": {
      "image/png": "[encoded data removed]",
      "text/plain": [
       "<Figure size 1440x432 with 1 Axes>"
      ]
     },
     "metadata": {
      "needs_background": "light"
     },
     "output_type": "display_data"
    }
   ],
   "source": [
    "plt.figure(figsize = (20, 6))\n",
    "plt.subplot(1,2,1)\n",
    "sns.countplot(failed['day'], palette = 'inferno')\n",
    "plt.title('Failed Transactions by Day');"
   ]
  },
  {
   "cell_type": "code",
   "execution_count": 65,
   "metadata": {},
   "outputs": [
    {
     "data": {
      "image/png": "[encoded data removed]",
      "text/plain": [
       "<Figure size 1440x432 with 1 Axes>"
      ]
     },
     "metadata": {
      "needs_background": "light"
     },
     "output_type": "display_data"
    }
   ],
   "source": [
    "plt.figure(figsize = (20, 6))\n",
    "plt.subplot(1,2,1)\n",
    "sns.countplot(failed['weekday'], palette = 'inferno')\n",
    "plt.xticks(range(7), 'Sun Mon Tue Wed Thu Fri Sat'.split())\n",
    "plt.title('Failed Transactions by Weekday');"
   ]
  },
  {
   "cell_type": "code",
   "execution_count": 66,
   "metadata": {
    "scrolled": true
   },
   "outputs": [
    {
     "data": {
      "image/png": "[encoded data removed]",
      "text/plain": [
       "<Figure size 1440x432 with 1 Axes>"
      ]
     },
     "metadata": {
      "needs_background": "light"
     },
     "output_type": "display_data"
    }
   ],
   "source": [
    "plt.figure(figsize = (20, 6))\n",
    "plt.subplot(1,2,1)\n",
    "sns.countplot(failed['month'], palette = 'inferno')\n",
    "plt.xticks(range(12), 'Jan Feb Mar Apr May Jun Jul Aug Sep Oct Nov Dec'.split())\n",
    "plt.title('Failed Transactions by Month');"
   ]
  },
  {
   "cell_type": "markdown",
   "metadata": {},
   "source": [
    "# EDA Findings & Recommendation\n",
    "\n",
    "### Conclusion\n",
    "\n",
    "* From the dataset provided, there are a total 79, 033 failed payments which consist of about 26% of the 304, 053 payments recorded and it's quite a large percentage which should call for concerns.\n",
    "\n",
    "\n",
    "* Overall, the majority of the failed payments happened in the following countries such as NG, RS, UA, MX, GH, and SA and they are due mainly to high ride prices and ride distance. Further looking at the price review reason, it is observed that most of these failed payments are a result of prices being too high and there are also cases where the ride prices are zero.\n",
    "\n",
    "\n",
    "* Also, the highest volumes of the failed transactions account for about 7.6% of the 79,033 failed payments that occurred between hours 1 pm and 11 pm. The findings did show that our analysis before shows that the fraud transactions are usually constant during any time of the day which is very frequent on Thursdays and Fridays, a majority in the month of July and December.\n",
    "\n",
    "\n",
    "### Recommendation\n",
    "* A cheaper alternative should be provided in cities/countries where fraudulent/failed transactions are frequent, and engage more drivers in locations where rides are not readily available as this will drastically reduce the frequency of failed payments and high ride prices.\n",
    "\n",
    "\n",
    "* Providing discounts for first riders and discounted pricing during busy hours, especially for longer ride distance to high reduce the ride prices and in turn encourage riders to make valid payments."
   ]
  },
  {
   "cell_type": "markdown",
   "metadata": {},
   "source": [
    "# Data Preparation"
   ]
  },
  {
   "cell_type": "code",
   "execution_count": 67,
   "metadata": {},
   "outputs": [
    {
     "data": {
      "text/plain": [
       "created                       0\n",
       "device_name                   0\n",
       "device_os_version             0\n",
       "country                       1\n",
       "city_id                     319\n",
       "lat                           0\n",
       "lng                           0\n",
       "real_destination_lat         27\n",
       "real_destination_lng         27\n",
       "user_id                       0\n",
       "order_id                      0\n",
       "order_try_id                  0\n",
       "distance                      0\n",
       "ride_distance                 0\n",
       "price                         0\n",
       "ride_price                    0\n",
       "price_review_status           0\n",
       "price_review_reason      302945\n",
       "is_successful_payment         0\n",
       "name                          0\n",
       "card_bin                   6578\n",
       "failed_attempts               0\n",
       "hour                          0\n",
       "day                           0\n",
       "month                         0\n",
       "weekday                       0\n",
       "dtype: int64"
      ]
     },
     "execution_count": 67,
     "metadata": {},
     "output_type": "execute_result"
    }
   ],
   "source": [
    "data.isnull().sum()"
   ]
  },
  {
   "cell_type": "code",
   "execution_count": 68,
   "metadata": {},
   "outputs": [
    {
     "data": {
      "text/html": [
       "<div>\n",
       "<style scoped>\n",
       "    .dataframe tbody tr th:only-of-type {\n",
       "        vertical-align: middle;\n",
       "    }\n",
       "\n",
       "    .dataframe tbody tr th {\n",
       "        vertical-align: top;\n",
       "    }\n",
       "\n",
       "    .dataframe thead th {\n",
       "        text-align: right;\n",
       "    }\n",
       "</style>\n",
       "<table border=\"1\" class=\"dataframe\">\n",
       "  <thead>\n",
       "    <tr style=\"text-align: right;\">\n",
       "      <th></th>\n",
       "      <th>country</th>\n",
       "      <th>lat</th>\n",
       "      <th>lng</th>\n",
       "      <th>real_destination_lat</th>\n",
       "      <th>real_destination_lng</th>\n",
       "      <th>user_id</th>\n",
       "      <th>order_id</th>\n",
       "      <th>order_try_id</th>\n",
       "      <th>distance</th>\n",
       "      <th>ride_distance</th>\n",
       "      <th>price</th>\n",
       "      <th>ride_price</th>\n",
       "      <th>is_successful_payment</th>\n",
       "      <th>failed_attempts</th>\n",
       "      <th>hour</th>\n",
       "      <th>day</th>\n",
       "      <th>month</th>\n",
       "      <th>weekday</th>\n",
       "    </tr>\n",
       "  </thead>\n",
       "  <tbody>\n",
       "    <tr>\n",
       "      <th>0</th>\n",
       "      <td>ee</td>\n",
       "      <td>58.37822</td>\n",
       "      <td>26.710402</td>\n",
       "      <td>58.363243</td>\n",
       "      <td>26.737696</td>\n",
       "      <td>218</td>\n",
       "      <td>4047728</td>\n",
       "      <td>4054895</td>\n",
       "      <td>773</td>\n",
       "      <td>3017</td>\n",
       "      <td>4.5</td>\n",
       "      <td>4.5</td>\n",
       "      <td>1</td>\n",
       "      <td>0</td>\n",
       "      <td>23</td>\n",
       "      <td>23</td>\n",
       "      <td>1</td>\n",
       "      <td>5</td>\n",
       "    </tr>\n",
       "    <tr>\n",
       "      <th>1</th>\n",
       "      <td>ee</td>\n",
       "      <td>59.42413</td>\n",
       "      <td>24.646359</td>\n",
       "      <td>59.397548</td>\n",
       "      <td>24.660957</td>\n",
       "      <td>266</td>\n",
       "      <td>5093642</td>\n",
       "      <td>5129745</td>\n",
       "      <td>43</td>\n",
       "      <td>4241</td>\n",
       "      <td>4.4</td>\n",
       "      <td>4.4</td>\n",
       "      <td>1</td>\n",
       "      <td>0</td>\n",
       "      <td>6</td>\n",
       "      <td>4</td>\n",
       "      <td>5</td>\n",
       "      <td>2</td>\n",
       "    </tr>\n",
       "  </tbody>\n",
       "</table>\n",
       "</div>"
      ],
      "text/plain": [
       "  country       lat        lng  real_destination_lat  real_destination_lng  \\\n",
       "0      ee  58.37822  26.710402             58.363243             26.737696   \n",
       "1      ee  59.42413  24.646359             59.397548             24.660957   \n",
       "\n",
       "   user_id  order_id  order_try_id  distance  ride_distance  price  \\\n",
       "0      218   4047728       4054895       773           3017    4.5   \n",
       "1      266   5093642       5129745        43           4241    4.4   \n",
       "\n",
       "   ride_price  is_successful_payment  failed_attempts  hour  day  month  \\\n",
       "0         4.5                      1                0    23   23      1   \n",
       "1         4.4                      1                0     6    4      5   \n",
       "\n",
       "   weekday  \n",
       "0        5  \n",
       "1        2  "
      ]
     },
     "execution_count": 68,
     "metadata": {},
     "output_type": "execute_result"
    }
   ],
   "source": [
    "# drop columns with larger missing values\n",
    "data = data.drop(['name','device_name', 'device_os_version', 'card_bin', 'price_review_status', 'city_id', 'created', 'price_review_reason'], axis=1)\n",
    "data.head(2)"
   ]
  },
  {
   "cell_type": "code",
   "execution_count": 69,
   "metadata": {},
   "outputs": [],
   "source": [
    "# Replace missing values using mode and median for categorical and numerical features respectively\n",
    "data['country'] = data['country'].fillna(data['country'].mode()[0]) \n",
    "data['real_destination_lat'] = data['real_destination_lat'].fillna(data['real_destination_lat'].mean())\n",
    "data['real_destination_lng'] = data['real_destination_lng'].fillna(data['real_destination_lng'].mean())"
   ]
  },
  {
   "cell_type": "code",
   "execution_count": 70,
   "metadata": {},
   "outputs": [
    {
     "data": {
      "text/plain": [
       "country                  0\n",
       "lat                      0\n",
       "lng                      0\n",
       "real_destination_lat     0\n",
       "real_destination_lng     0\n",
       "user_id                  0\n",
       "order_id                 0\n",
       "order_try_id             0\n",
       "distance                 0\n",
       "ride_distance            0\n",
       "price                    0\n",
       "ride_price               0\n",
       "is_successful_payment    0\n",
       "failed_attempts          0\n",
       "hour                     0\n",
       "day                      0\n",
       "month                    0\n",
       "weekday                  0\n",
       "dtype: int64"
      ]
     },
     "execution_count": 70,
     "metadata": {},
     "output_type": "execute_result"
    }
   ],
   "source": [
    "data.isnull().sum()"
   ]
  },
  {
   "cell_type": "code",
   "execution_count": 71,
   "metadata": {
    "scrolled": true
   },
   "outputs": [
    {
     "data": {
      "text/html": [
       "<div>\n",
       "<style scoped>\n",
       "    .dataframe tbody tr th:only-of-type {\n",
       "        vertical-align: middle;\n",
       "    }\n",
       "\n",
       "    .dataframe tbody tr th {\n",
       "        vertical-align: top;\n",
       "    }\n",
       "\n",
       "    .dataframe thead th {\n",
       "        text-align: right;\n",
       "    }\n",
       "</style>\n",
       "<table border=\"1\" class=\"dataframe\">\n",
       "  <thead>\n",
       "    <tr style=\"text-align: right;\">\n",
       "      <th></th>\n",
       "      <th>lat</th>\n",
       "      <th>lng</th>\n",
       "      <th>real_destination_lat</th>\n",
       "      <th>real_destination_lng</th>\n",
       "      <th>user_id</th>\n",
       "      <th>order_id</th>\n",
       "      <th>order_try_id</th>\n",
       "      <th>distance</th>\n",
       "      <th>ride_distance</th>\n",
       "      <th>price</th>\n",
       "      <th>...</th>\n",
       "      <th>country_mt</th>\n",
       "      <th>country_mx</th>\n",
       "      <th>country_ng</th>\n",
       "      <th>country_pl</th>\n",
       "      <th>country_ro</th>\n",
       "      <th>country_rs</th>\n",
       "      <th>country_sa</th>\n",
       "      <th>country_sk</th>\n",
       "      <th>country_ua</th>\n",
       "      <th>country_za</th>\n",
       "    </tr>\n",
       "  </thead>\n",
       "  <tbody>\n",
       "    <tr>\n",
       "      <th>0</th>\n",
       "      <td>58.378220</td>\n",
       "      <td>26.710402</td>\n",
       "      <td>58.363243</td>\n",
       "      <td>26.737696</td>\n",
       "      <td>218</td>\n",
       "      <td>4047728</td>\n",
       "      <td>4054895</td>\n",
       "      <td>773</td>\n",
       "      <td>3017</td>\n",
       "      <td>4.5</td>\n",
       "      <td>...</td>\n",
       "      <td>0</td>\n",
       "      <td>0</td>\n",
       "      <td>0</td>\n",
       "      <td>0</td>\n",
       "      <td>0</td>\n",
       "      <td>0</td>\n",
       "      <td>0</td>\n",
       "      <td>0</td>\n",
       "      <td>0</td>\n",
       "      <td>0</td>\n",
       "    </tr>\n",
       "    <tr>\n",
       "      <th>1</th>\n",
       "      <td>59.424130</td>\n",
       "      <td>24.646359</td>\n",
       "      <td>59.397548</td>\n",
       "      <td>24.660957</td>\n",
       "      <td>266</td>\n",
       "      <td>5093642</td>\n",
       "      <td>5129745</td>\n",
       "      <td>43</td>\n",
       "      <td>4241</td>\n",
       "      <td>4.4</td>\n",
       "      <td>...</td>\n",
       "      <td>0</td>\n",
       "      <td>0</td>\n",
       "      <td>0</td>\n",
       "      <td>0</td>\n",
       "      <td>0</td>\n",
       "      <td>0</td>\n",
       "      <td>0</td>\n",
       "      <td>0</td>\n",
       "      <td>0</td>\n",
       "      <td>0</td>\n",
       "    </tr>\n",
       "    <tr>\n",
       "      <th>2</th>\n",
       "      <td>59.413508</td>\n",
       "      <td>24.743706</td>\n",
       "      <td>59.448500</td>\n",
       "      <td>24.804887</td>\n",
       "      <td>551</td>\n",
       "      <td>6655300</td>\n",
       "      <td>6792534</td>\n",
       "      <td>1654</td>\n",
       "      <td>6347</td>\n",
       "      <td>7.2</td>\n",
       "      <td>...</td>\n",
       "      <td>0</td>\n",
       "      <td>0</td>\n",
       "      <td>0</td>\n",
       "      <td>0</td>\n",
       "      <td>0</td>\n",
       "      <td>0</td>\n",
       "      <td>0</td>\n",
       "      <td>0</td>\n",
       "      <td>0</td>\n",
       "      <td>0</td>\n",
       "    </tr>\n",
       "  </tbody>\n",
       "</table>\n",
       "<p>3 rows × 39 columns</p>\n",
       "</div>"
      ],
      "text/plain": [
       "         lat        lng  real_destination_lat  real_destination_lng  user_id  \\\n",
       "0  58.378220  26.710402             58.363243             26.737696      218   \n",
       "1  59.424130  24.646359             59.397548             24.660957      266   \n",
       "2  59.413508  24.743706             59.448500             24.804887      551   \n",
       "\n",
       "   order_id  order_try_id  distance  ride_distance  price  ...  country_mt  \\\n",
       "0   4047728       4054895       773           3017    4.5  ...           0   \n",
       "1   5093642       5129745        43           4241    4.4  ...           0   \n",
       "2   6655300       6792534      1654           6347    7.2  ...           0   \n",
       "\n",
       "   country_mx  country_ng  country_pl  country_ro  country_rs  country_sa  \\\n",
       "0           0           0           0           0           0           0   \n",
       "1           0           0           0           0           0           0   \n",
       "2           0           0           0           0           0           0   \n",
       "\n",
       "   country_sk  country_ua  country_za  \n",
       "0           0           0           0  \n",
       "1           0           0           0  \n",
       "2           0           0           0  \n",
       "\n",
       "[3 rows x 39 columns]"
      ]
     },
     "execution_count": 71,
     "metadata": {},
     "output_type": "execute_result"
    }
   ],
   "source": [
    "# get dummny data\n",
    "df = pd.get_dummies(data)\n",
    "df.head(3)"
   ]
  },
  {
   "cell_type": "code",
   "execution_count": 72,
   "metadata": {},
   "outputs": [
    {
     "data": {
      "text/plain": [
       "Index(['lat', 'lng', 'real_destination_lat', 'real_destination_lng', 'user_id',\n",
       "       'order_id', 'order_try_id', 'distance', 'ride_distance', 'price',\n",
       "       'ride_price', 'is_successful_payment', 'failed_attempts', 'hour', 'day',\n",
       "       'month', 'weekday', 'country_az', 'country_ca', 'country_cz',\n",
       "       'country_ee', 'country_eg', 'country_fi', 'country_ge', 'country_gh',\n",
       "       'country_hu', 'country_ke', 'country_lt', 'country_lv', 'country_mt',\n",
       "       'country_mx', 'country_ng', 'country_pl', 'country_ro', 'country_rs',\n",
       "       'country_sa', 'country_sk', 'country_ua', 'country_za'],\n",
       "      dtype='object')"
      ]
     },
     "execution_count": 72,
     "metadata": {},
     "output_type": "execute_result"
    }
   ],
   "source": [
    "df.columns"
   ]
  },
  {
   "cell_type": "markdown",
   "metadata": {},
   "source": [
    "# Feature Selection\n",
    "\n"
   ]
  },
  {
   "cell_type": "code",
   "execution_count": 73,
   "metadata": {},
   "outputs": [],
   "source": [
    "y=df['is_successful_payment']"
   ]
  },
  {
   "cell_type": "code",
   "execution_count": 74,
   "metadata": {},
   "outputs": [],
   "source": [
    "X_v=df.drop('is_successful_payment', axis=1)"
   ]
  },
  {
   "cell_type": "code",
   "execution_count": 75,
   "metadata": {},
   "outputs": [],
   "source": [
    "X_v = X_v.drop(['lat', 'lng', 'real_destination_lat', 'real_destination_lng', 'order_try_id', 'ride_price'], axis=1)"
   ]
  },
  {
   "cell_type": "code",
   "execution_count": 76,
   "metadata": {},
   "outputs": [
    {
     "name": "stdout",
     "output_type": "stream",
     "text": [
      "            feature       VIF\n",
      "0           user_id  2.721414\n",
      "1          order_id  2.264174\n",
      "2          distance  1.061714\n",
      "3     ride_distance  1.185196\n",
      "4             price  3.008486\n",
      "5   failed_attempts  1.049300\n",
      "6              hour  1.018148\n",
      "7               day  1.001897\n",
      "8             month  1.041497\n",
      "9           weekday  1.006579\n",
      "10       country_az  1.669020\n",
      "11       country_ca  1.000574\n",
      "12       country_cz  1.732277\n",
      "13       country_ee  3.914786\n",
      "14       country_eg  1.046096\n",
      "15       country_fi  1.027116\n",
      "16       country_ge  1.864143\n",
      "17       country_gh  1.006759\n",
      "18       country_hu  4.990857\n",
      "19       country_ke  1.343976\n",
      "20       country_lt  2.540618\n",
      "21       country_lv  5.042066\n",
      "22       country_mt  1.113076\n",
      "23       country_mx  1.701789\n",
      "24       country_ng  1.074466\n",
      "25       country_pl  1.457854\n",
      "26       country_ro  2.473965\n",
      "27       country_rs  1.173142\n",
      "28       country_sa  1.000130\n",
      "29       country_sk  1.400341\n",
      "30       country_ua  1.658399\n",
      "31       country_za  7.402115\n"
     ]
    }
   ],
   "source": [
    "# Detecting Multicollinearity with VIF\n",
    "from statsmodels.stats.outliers_influence import variance_inflation_factor\n",
    "\n",
    "vif_data = pd.DataFrame()\n",
    "vif_data[\"feature\"] = X_v.columns\n",
    "  \n",
    "# calculating VIF for each feature\n",
    "vif_data[\"VIF\"] = [variance_inflation_factor(X_v.values, i)\n",
    "                          for i in range(len(X_v.columns))]\n",
    "  \n",
    "print(vif_data)"
   ]
  },
  {
   "cell_type": "code",
   "execution_count": 77,
   "metadata": {},
   "outputs": [],
   "source": [
    "from sklearn.model_selection import train_test_split\n",
    "\n",
    "X=X_v\n",
    "X_train, X_test, y_train, y_test = train_test_split(X, y, test_size=0.35, random_state=42, stratify = y)"
   ]
  },
  {
   "cell_type": "markdown",
   "metadata": {},
   "source": [
    "# Modeling"
   ]
  },
  {
   "cell_type": "code",
   "execution_count": 78,
   "metadata": {},
   "outputs": [
    {
     "data": {
      "text/plain": [
       "LogisticRegression(random_state=42)"
      ]
     },
     "execution_count": 78,
     "metadata": {},
     "output_type": "execute_result"
    }
   ],
   "source": [
    "#Logistic Regression Model\n",
    "from sklearn.linear_model import LogisticRegression\n",
    "from sklearn import metrics\n",
    "logreg = LogisticRegression(random_state=42)\n",
    "logreg.fit(X_train, y_train)"
   ]
  },
  {
   "cell_type": "code",
   "execution_count": 79,
   "metadata": {},
   "outputs": [
    {
     "name": "stdout",
     "output_type": "stream",
     "text": [
      "Logistic regression accuracy: 0.741\n"
     ]
    }
   ],
   "source": [
    "from sklearn.metrics import accuracy_score\n",
    "print('Logistic regression accuracy: {:.3f}'.format(accuracy_score(y_test, logreg.predict(X_test))))"
   ]
  },
  {
   "cell_type": "code",
   "execution_count": 80,
   "metadata": {},
   "outputs": [
    {
     "name": "stdout",
     "output_type": "stream",
     "text": [
      "10-fold cross validation average accuracy of the logistic regression model: 0.741\n"
     ]
    }
   ],
   "source": [
    "from sklearn import model_selection\n",
    "from sklearn.model_selection import cross_val_score\n",
    "\n",
    "kfold = model_selection.KFold(n_splits=10, shuffle=True, random_state=42)\n",
    "modelCV = LogisticRegression(max_iter=1000, random_state=42)\n",
    "scoring = 'accuracy'\n",
    "results = model_selection.cross_val_score(modelCV, X_train, y_train, cv=kfold, scoring=scoring)\n",
    "print('10-fold cross validation average accuracy of the logistic regression model: %.3f' % (results.mean()))"
   ]
  },
  {
   "cell_type": "code",
   "execution_count": 81,
   "metadata": {
    "scrolled": true
   },
   "outputs": [
    {
     "data": {
      "text/plain": [
       "RandomForestClassifier(random_state=42)"
      ]
     },
     "execution_count": 81,
     "metadata": {},
     "output_type": "execute_result"
    }
   ],
   "source": [
    "# Random Forest\n",
    "from sklearn.ensemble import RandomForestClassifier\n",
    "\n",
    "rf = RandomForestClassifier(random_state=42)\n",
    "rf.fit(X_train, y_train)"
   ]
  },
  {
   "cell_type": "code",
   "execution_count": 82,
   "metadata": {},
   "outputs": [
    {
     "name": "stdout",
     "output_type": "stream",
     "text": [
      "Random Forest Accuracy: 0.949\n"
     ]
    }
   ],
   "source": [
    "print('Random Forest Accuracy: {:.3f}'.format(accuracy_score(y_test, rf.predict(X_test))))"
   ]
  },
  {
   "cell_type": "code",
   "execution_count": 83,
   "metadata": {},
   "outputs": [
    {
     "name": "stdout",
     "output_type": "stream",
     "text": [
      "10-fold cross validation average accuracy of the random forest model: 0.950\n"
     ]
    }
   ],
   "source": [
    "# cross validation attempts to avoid overfitting while still producing a prediction for each observation dataset. \n",
    "# using 10-fold Cross-Validation to train our Random Forest model.\n",
    "\n",
    "kfold = model_selection.KFold(n_splits=10, shuffle=True, random_state=42)\n",
    "modelCV =RandomForestClassifier(random_state=42)\n",
    "scoring = 'accuracy'\n",
    "results = model_selection.cross_val_score(modelCV, X_train, y_train, cv=kfold, scoring=scoring)\n",
    "print('10-fold cross validation average accuracy of the random forest model: %.3f' % (results.mean()))"
   ]
  },
  {
   "cell_type": "code",
   "execution_count": 84,
   "metadata": {},
   "outputs": [
    {
     "name": "stderr",
     "output_type": "stream",
     "text": [
      "c:\\users\\jacob\\appdata\\local\\programs\\python\\python38\\lib\\site-packages\\xgboost\\compat.py:93: FutureWarning: pandas.Int64Index is deprecated and will be removed from pandas in a future version. Use pandas.Index with the appropriate dtype instead.\n",
      "  from pandas import MultiIndex, Int64Index\n",
      "c:\\users\\jacob\\appdata\\local\\programs\\python\\python38\\lib\\site-packages\\xgboost\\data.py:173: FutureWarning: pandas.Int64Index is deprecated and will be removed from pandas in a future version. Use pandas.Index with the appropriate dtype instead.\n",
      "  from pandas import MultiIndex, Int64Index\n"
     ]
    },
    {
     "data": {
      "text/plain": [
       "XGBClassifier(base_score=0.5, booster='gbtree', colsample_bylevel=1,\n",
       "              colsample_bynode=1, colsample_bytree=1, gamma=0, gpu_id=-1,\n",
       "              importance_type='gain', interaction_constraints='',\n",
       "              learning_rate=0.300000012, max_delta_step=0, max_depth=6,\n",
       "              min_child_weight=1, missing=nan, monotone_constraints='()',\n",
       "              n_estimators=100, n_jobs=0, num_parallel_tree=1, random_state=0,\n",
       "              reg_alpha=0, reg_lambda=1, scale_pos_weight=1, subsample=1,\n",
       "              tree_method='exact', validate_parameters=1, verbosity=None)"
      ]
     },
     "execution_count": 84,
     "metadata": {},
     "output_type": "execute_result"
    }
   ],
   "source": [
    "# XGB Classifier\n",
    "import xgboost as xgb\n",
    "\n",
    "xgb_cl = xgb.XGBClassifier(scale_pos_weight=1)\n",
    "xgb_cl.fit(X_train, y_train)"
   ]
  },
  {
   "cell_type": "code",
   "execution_count": 85,
   "metadata": {},
   "outputs": [
    {
     "name": "stdout",
     "output_type": "stream",
     "text": [
      "XGBoost classifier: 0.950\n"
     ]
    }
   ],
   "source": [
    "print('XGBoost classifier: {:.3f}'.format(accuracy_score(y_test, xgb_cl.predict(X_test))))"
   ]
  },
  {
   "cell_type": "code",
   "execution_count": 86,
   "metadata": {},
   "outputs": [
    {
     "name": "stdout",
     "output_type": "stream",
     "text": [
      "10-fold cross validation average accuracy of the XGBoost classifier model: 0.950\n"
     ]
    }
   ],
   "source": [
    "kfold = model_selection.KFold(n_splits=10, shuffle=True, random_state=42)\n",
    "modelCV = xgb.XGBClassifier(random_state=42)\n",
    "scoring = 'accuracy'\n",
    "results = model_selection.cross_val_score(modelCV, X_train, y_train, cv=kfold, scoring=scoring)\n",
    "print('10-fold cross validation average accuracy of the XGBoost classifier model: %.3f' % (results.mean()))"
   ]
  },
  {
   "cell_type": "markdown",
   "metadata": {},
   "source": [
    "# Evaluation"
   ]
  },
  {
   "cell_type": "code",
   "execution_count": 87,
   "metadata": {},
   "outputs": [
    {
     "name": "stderr",
     "output_type": "stream",
     "text": [
      "c:\\users\\jacob\\appdata\\local\\programs\\python\\python38\\lib\\site-packages\\sklearn\\utils\\validation.py:67: FutureWarning: Pass labels=[1, 0] as keyword args. From version 0.25 passing these as positional arguments will result in an error\n",
      "  warnings.warn(\"Pass {} as keyword args. From version 0.25 \"\n"
     ]
    },
    {
     "data": {
      "image/png": "[encoded data removed]",
      "text/plain": [
       "<Figure size 720x432 with 2 Axes>"
      ]
     },
     "metadata": {
      "needs_background": "light"
     },
     "output_type": "display_data"
    }
   ],
   "source": [
    "#Logistic Regression\n",
    "from sklearn.metrics import confusion_matrix\n",
    "\n",
    "logreg_y_pred = logreg.predict(X_test)\n",
    "\n",
    "logreg_cm = metrics.confusion_matrix(logreg_y_pred, y_test, [1,0])\n",
    "sns.heatmap(logreg_cm, cmap='RdPu', annot=True, fmt='.0f', xticklabels = ['Successful', 'Failed'], yticklabels = ['Successful', 'Failed'])\n",
    "plt.ylabel('True class')\n",
    "plt.xlabel('Predicted class')\n",
    "plt.title('Random Forest')\n",
    "plt.savefig('random_forest')"
   ]
  },
  {
   "cell_type": "code",
   "execution_count": 88,
   "metadata": {},
   "outputs": [
    {
     "name": "stdout",
     "output_type": "stream",
     "text": [
      "\u001b[1m The result is telling us that we have:  78819 correct predictions\u001b[1m\n",
      "\u001b[1m The result is telling us that we have:  27600 incorrect predictions\u001b[1m\n",
      "\u001b[1m We have a total predictions of:  106419\n"
     ]
    }
   ],
   "source": [
    "print('\\033[1m The result is telling us that we have: ',(logreg_cm[0,0]+logreg_cm[1,1]),'correct predictions\\033[1m')\n",
    "print('\\033[1m The result is telling us that we have: ',(logreg_cm[0,1]+logreg_cm[1,0]),'incorrect predictions\\033[1m')\n",
    "print('\\033[1m We have a total predictions of: ',(logreg_cm.sum()))"
   ]
  },
  {
   "cell_type": "code",
   "execution_count": 89,
   "metadata": {},
   "outputs": [
    {
     "name": "stdout",
     "output_type": "stream",
     "text": [
      "              precision    recall  f1-score   support\n",
      "\n",
      "           0       0.69      0.00      0.01     27662\n",
      "           1       0.74      1.00      0.85     78757\n",
      "\n",
      "    accuracy                           0.74    106419\n",
      "   macro avg       0.71      0.50      0.43    106419\n",
      "weighted avg       0.73      0.74      0.63    106419\n",
      "\n"
     ]
    }
   ],
   "source": [
    "from sklearn.metrics import classification_report\n",
    "print(classification_report(y_test, logreg.predict(X_test)))"
   ]
  },
  {
   "cell_type": "code",
   "execution_count": 90,
   "metadata": {},
   "outputs": [
    {
     "name": "stderr",
     "output_type": "stream",
     "text": [
      "c:\\users\\jacob\\appdata\\local\\programs\\python\\python38\\lib\\site-packages\\sklearn\\utils\\validation.py:67: FutureWarning: Pass labels=[1, 0] as keyword args. From version 0.25 passing these as positional arguments will result in an error\n",
      "  warnings.warn(\"Pass {} as keyword args. From version 0.25 \"\n"
     ]
    },
    {
     "data": {
      "image/png": "[encoded data removed]",
      "text/plain": [
       "<Figure size 720x432 with 2 Axes>"
      ]
     },
     "metadata": {
      "needs_background": "light"
     },
     "output_type": "display_data"
    }
   ],
   "source": [
    "#Random Forest\n",
    "rf_y_pred = rf.predict(X_test)\n",
    "\n",
    "forest_cm = metrics.confusion_matrix(rf_y_pred, y_test, [1,0])\n",
    "sns.heatmap(forest_cm, cmap='RdPu', annot=True, fmt='.0f', xticklabels = ['Successful', 'Failed'], yticklabels = ['Successful', 'Failed'])\n",
    "plt.ylabel('True class')\n",
    "plt.xlabel('Predicted class')\n",
    "plt.title('Random Forest')\n",
    "plt.savefig('random_forest')"
   ]
  },
  {
   "cell_type": "code",
   "execution_count": 91,
   "metadata": {},
   "outputs": [
    {
     "name": "stdout",
     "output_type": "stream",
     "text": [
      "\u001b[1m The result is telling us that we have:  101036 correct predictions\u001b[1m\n",
      "\u001b[1m The result is telling us that we have:  5383 incorrect predictions\u001b[1m\n",
      "\u001b[1m We have a total predictions of:  106419\n"
     ]
    }
   ],
   "source": [
    "print('\\033[1m The result is telling us that we have: ',(forest_cm[0,0]+forest_cm[1,1]),'correct predictions\\033[1m')\n",
    "print('\\033[1m The result is telling us that we have: ',(forest_cm[0,1]+forest_cm[1,0]),'incorrect predictions\\033[1m')\n",
    "print('\\033[1m We have a total predictions of: ',(forest_cm.sum()))"
   ]
  },
  {
   "cell_type": "code",
   "execution_count": 92,
   "metadata": {},
   "outputs": [
    {
     "name": "stdout",
     "output_type": "stream",
     "text": [
      "              precision    recall  f1-score   support\n",
      "\n",
      "           0       0.98      0.83      0.89     27662\n",
      "           1       0.94      0.99      0.97     78757\n",
      "\n",
      "    accuracy                           0.95    106419\n",
      "   macro avg       0.96      0.91      0.93    106419\n",
      "weighted avg       0.95      0.95      0.95    106419\n",
      "\n"
     ]
    }
   ],
   "source": [
    "print(classification_report(y_test, rf.predict(X_test)))"
   ]
  },
  {
   "cell_type": "code",
   "execution_count": 93,
   "metadata": {},
   "outputs": [
    {
     "name": "stderr",
     "output_type": "stream",
     "text": [
      "c:\\users\\jacob\\appdata\\local\\programs\\python\\python38\\lib\\site-packages\\xgboost\\data.py:173: FutureWarning: pandas.Int64Index is deprecated and will be removed from pandas in a future version. Use pandas.Index with the appropriate dtype instead.\n",
      "  from pandas import MultiIndex, Int64Index\n",
      "c:\\users\\jacob\\appdata\\local\\programs\\python\\python38\\lib\\site-packages\\sklearn\\utils\\validation.py:67: FutureWarning: Pass labels=[1, 0] as keyword args. From version 0.25 passing these as positional arguments will result in an error\n",
      "  warnings.warn(\"Pass {} as keyword args. From version 0.25 \"\n"
     ]
    },
    {
     "data": {
      "image/png": "[encoded data removed]",
      "text/plain": [
       "<Figure size 720x432 with 2 Axes>"
      ]
     },
     "metadata": {
      "needs_background": "light"
     },
     "output_type": "display_data"
    }
   ],
   "source": [
    "# XGBoost Classifier\n",
    "xgb_y_pred = xgb_cl.predict(X_test)\n",
    "xgb_cm = metrics.confusion_matrix(xgb_y_pred, y_test, [1,0])\n",
    "sns.heatmap(xgb_cm, cmap='RdPu', annot=True, fmt='.0f', xticklabels = ['Successful', 'Failed'], yticklabels = ['Successful', 'Failed'])\n",
    "plt.ylabel('True class')\n",
    "plt.xlabel('Predicted class')\n",
    "plt.title('XGBoost Classifier')\n",
    "plt.savefig('xg_boost_classifier')"
   ]
  },
  {
   "cell_type": "code",
   "execution_count": 94,
   "metadata": {},
   "outputs": [
    {
     "name": "stdout",
     "output_type": "stream",
     "text": [
      "\u001b[1m The result is telling us that we have:  101090 correct predictions\u001b[1m\n",
      "\u001b[1m The result is telling us that we have:  5329 incorrect predictions\u001b[1m\n",
      "\u001b[1m We have a total predictions of:  106419\n"
     ]
    }
   ],
   "source": [
    "print('\\033[1m The result is telling us that we have: ',(xgb_cm[0,0]+xgb_cm[1,1]),'correct predictions\\033[1m')\n",
    "print('\\033[1m The result is telling us that we have: ',(xgb_cm[0,1]+xgb_cm[1,0]),'incorrect predictions\\033[1m')\n",
    "print('\\033[1m We have a total predictions of: ',(xgb_cm.sum()))"
   ]
  },
  {
   "cell_type": "code",
   "execution_count": 95,
   "metadata": {},
   "outputs": [
    {
     "name": "stdout",
     "output_type": "stream",
     "text": [
      "              precision    recall  f1-score   support\n",
      "\n",
      "           0       0.98      0.83      0.90     27662\n",
      "           1       0.94      0.99      0.97     78757\n",
      "\n",
      "    accuracy                           0.95    106419\n",
      "   macro avg       0.96      0.91      0.93    106419\n",
      "weighted avg       0.95      0.95      0.95    106419\n",
      "\n"
     ]
    }
   ],
   "source": [
    "print(classification_report(y_test, xgb_cl.predict(X_test)))"
   ]
  },
  {
   "cell_type": "markdown",
   "metadata": {},
   "source": [
    "# Feature Importance for Random Forest Model"
   ]
  },
  {
   "cell_type": "code",
   "execution_count": 96,
   "metadata": {},
   "outputs": [
    {
     "name": "stdout",
     "output_type": "stream",
     "text": [
      "price-69.56%\n",
      "ride_distance-4.52%\n",
      "user_id-4.47%\n",
      "order_id-4.00%\n",
      "distance-3.53%\n",
      "hour-2.24%\n",
      "day-1.99%\n",
      "country_mx-1.33%\n",
      "weekday-1.25%\n",
      "month-1.17%\n",
      "country_hu-1.07%\n",
      "failed_attempts-0.98%\n",
      "country_ee-0.94%\n",
      "country_ua-0.60%\n",
      "country_za-0.35%\n",
      "country_ng-0.34%\n",
      "country_ge-0.27%\n",
      "country_rs-0.25%\n",
      "country_az-0.19%\n",
      "country_pl-0.19%\n",
      "country_lv-0.16%\n",
      "country_ke-0.14%\n",
      "country_cz-0.13%\n",
      "country_ro-0.10%\n",
      "country_lt-0.07%\n",
      "country_sk-0.06%\n",
      "country_eg-0.04%\n",
      "country_gh-0.03%\n",
      "country_mt-0.02%\n",
      "country_fi-0.01%\n",
      "country_sa-0.00%\n",
      "country_ca-0.00%\n"
     ]
    }
   ],
   "source": [
    "feature_labels = X.columns\n",
    "importance = rf.feature_importances_\n",
    "feature_indexes_by_importance = importance.argsort()[::-1]\n",
    "for index in feature_indexes_by_importance:\n",
    "    print('{}-{:.2f}%'.format(feature_labels[index], (importance[index] *100.0)))"
   ]
  },
  {
   "cell_type": "code",
   "execution_count": 97,
   "metadata": {},
   "outputs": [],
   "source": [
    "df_features = [x for i,x in enumerate(X.columns) if i!=10]\n",
    "\n",
    "sns.set(style ='white')\n",
    "plt.rcParams['figure.figsize'] = (14.0, 7.0)\n",
    "def plot_feature_importances(model):\n",
    "    plt.figure(figsize=(8,6))\n",
    "    n_features = 10\n",
    "    plt.barh(range(n_features), rf.feature_importances_, align='center')\n",
    "    plt.yticks(np.arange(n_features), df_features)\n",
    "    plt.xlabel('Feature importance')\n",
    "    plt.ylabel('Feature')\n",
    "    plt.ylim(-1, n_features)\n",
    "    plot_feature_importances(rf)\n",
    "    plt.savefig('feature_importance')"
   ]
  },
  {
   "cell_type": "code",
   "execution_count": 98,
   "metadata": {},
   "outputs": [
    {
     "name": "stderr",
     "output_type": "stream",
     "text": [
      "c:\\users\\jacob\\appdata\\local\\programs\\python\\python38\\lib\\site-packages\\xgboost\\data.py:173: FutureWarning: pandas.Int64Index is deprecated and will be removed from pandas in a future version. Use pandas.Index with the appropriate dtype instead.\n",
      "  from pandas import MultiIndex, Int64Index\n"
     ]
    },
    {
     "data": {
      "image/png": "[encoded data removed]",
      "text/plain": [
       "<Figure size 1008x504 with 1 Axes>"
      ]
     },
     "metadata": {},
     "output_type": "display_data"
    }
   ],
   "source": [
    "#set up plotting area\n",
    "plt.figure(0).clf()\n",
    "\n",
    "#fit logistic regression model and plot ROC curve\n",
    "logreg.fit(X_train, y_train)\n",
    "y_pred = logreg.predict_proba(X_test)[:, 1]\n",
    "fpr, tpr, _ = metrics.roc_curve(y_test, y_pred)\n",
    "auc = round(metrics.roc_auc_score(y_test, y_pred), 4)\n",
    "plt.plot(fpr,tpr,label=\"Logistic Regression, AUC=\"+str(auc))\n",
    "\n",
    "#fit random forrest model and plot ROC curve\n",
    "rf.fit(X_train, y_train)\n",
    "y_pred = rf.predict_proba(X_test)[:, 1]\n",
    "fpr, tpr, _ = metrics.roc_curve(y_test, y_pred)\n",
    "auc = round(metrics.roc_auc_score(y_test, y_pred), 4)\n",
    "plt.plot(fpr,tpr,label=\"Ranfdom Forrest, AUC=\"+str(auc))\n",
    "\n",
    "#fit xgboost model and plot ROC curve\n",
    "xgb_cl.fit(X_train, y_train)\n",
    "y_pred = xgb_cl.predict_proba(X_test)[:, 1]\n",
    "fpr, tpr, _ = metrics.roc_curve(y_test, y_pred)\n",
    "auc = round(metrics.roc_auc_score(y_test, y_pred), 4)\n",
    "plt.plot(fpr,tpr,label=\"XG Boost, AUC=\"+str(auc))\n",
    "\n",
    "\n",
    "#add legend\n",
    "plt.legend();"
   ]
  },
  {
   "cell_type": "markdown",
   "metadata": {},
   "source": [
    "# Hyperparameter Tuning "
   ]
  },
  {
   "cell_type": "code",
   "execution_count": 99,
   "metadata": {},
   "outputs": [],
   "source": [
    "param_grid = { \"scale_pos_weight\": [1,10,2]}"
   ]
  },
  {
   "cell_type": "code",
   "execution_count": 103,
   "metadata": {},
   "outputs": [
    {
     "name": "stderr",
     "output_type": "stream",
     "text": [
      "c:\\users\\jacob\\appdata\\local\\programs\\python\\python38\\lib\\site-packages\\xgboost\\data.py:173: FutureWarning: pandas.Int64Index is deprecated and will be removed from pandas in a future version. Use pandas.Index with the appropriate dtype instead.\n",
      "  from pandas import MultiIndex, Int64Index\n"
     ]
    },
    {
     "data": {
      "text/plain": [
       "GridSearchCV(cv=10,\n",
       "             estimator=XGBClassifier(base_score=None, booster=None,\n",
       "                                     colsample_bylevel=None,\n",
       "                                     colsample_bynode=None,\n",
       "                                     colsample_bytree=None, gamma=None,\n",
       "                                     gpu_id=None, importance_type='gain',\n",
       "                                     interaction_constraints=None,\n",
       "                                     learning_rate=None, max_delta_step=None,\n",
       "                                     max_depth=None, min_child_weight=None,\n",
       "                                     missing=nan, monotone_constraints=None,\n",
       "                                     n_estimators=100, n_jobs=None,\n",
       "                                     num_parallel_tree=None, random_state=None,\n",
       "                                     reg_alpha=None, reg_lambda=None,\n",
       "                                     scale_pos_weight=None, subsample=None,\n",
       "                                     tree_method=None, validate_parameters=None,\n",
       "                                     verbosity=None),\n",
       "             n_jobs=-1, param_grid={'scale_pos_weight': [1, 10, 2]},\n",
       "             scoring='roc_auc')"
      ]
     },
     "execution_count": 103,
     "metadata": {},
     "output_type": "execute_result"
    }
   ],
   "source": [
    "from sklearn.model_selection import GridSearchCV\n",
    "\n",
    "xgb_c = xgb.XGBClassifier(objective=\"binary:logistic\")\n",
    "\n",
    "grid_cv = GridSearchCV(xgb_c, param_grid, n_jobs=-1, cv=10, scoring=\"roc_auc\")\n",
    "grid_cv.fit(X_train, y_train)"
   ]
  },
  {
   "cell_type": "code",
   "execution_count": 104,
   "metadata": {},
   "outputs": [
    {
     "name": "stdout",
     "output_type": "stream",
     "text": [
      "Grid SearchCV accuracy: 0.950\n"
     ]
    }
   ],
   "source": [
    "from sklearn.metrics import accuracy_score\n",
    "print('Grid SearchCV accuracy: {:.3f}'.format(accuracy_score(y_test, grid_cv.predict(X_test))))"
   ]
  },
  {
   "cell_type": "code",
   "execution_count": 102,
   "metadata": {},
   "outputs": [
    {
     "name": "stderr",
     "output_type": "stream",
     "text": [
      "c:\\users\\jacob\\appdata\\local\\programs\\python\\python38\\lib\\site-packages\\xgboost\\data.py:173: FutureWarning: pandas.Int64Index is deprecated and will be removed from pandas in a future version. Use pandas.Index with the appropriate dtype instead.\n",
      "  from pandas import MultiIndex, Int64Index\n",
      "c:\\users\\jacob\\appdata\\local\\programs\\python\\python38\\lib\\site-packages\\xgboost\\data.py:173: FutureWarning: pandas.Int64Index is deprecated and will be removed from pandas in a future version. Use pandas.Index with the appropriate dtype instead.\n",
      "  from pandas import MultiIndex, Int64Index\n",
      "c:\\users\\jacob\\appdata\\local\\programs\\python\\python38\\lib\\site-packages\\xgboost\\data.py:173: FutureWarning: pandas.Int64Index is deprecated and will be removed from pandas in a future version. Use pandas.Index with the appropriate dtype instead.\n",
      "  from pandas import MultiIndex, Int64Index\n",
      "c:\\users\\jacob\\appdata\\local\\programs\\python\\python38\\lib\\site-packages\\xgboost\\data.py:173: FutureWarning: pandas.Int64Index is deprecated and will be removed from pandas in a future version. Use pandas.Index with the appropriate dtype instead.\n",
      "  from pandas import MultiIndex, Int64Index\n",
      "c:\\users\\jacob\\appdata\\local\\programs\\python\\python38\\lib\\site-packages\\xgboost\\data.py:173: FutureWarning: pandas.Int64Index is deprecated and will be removed from pandas in a future version. Use pandas.Index with the appropriate dtype instead.\n",
      "  from pandas import MultiIndex, Int64Index\n",
      "c:\\users\\jacob\\appdata\\local\\programs\\python\\python38\\lib\\site-packages\\xgboost\\data.py:173: FutureWarning: pandas.Int64Index is deprecated and will be removed from pandas in a future version. Use pandas.Index with the appropriate dtype instead.\n",
      "  from pandas import MultiIndex, Int64Index\n",
      "c:\\users\\jacob\\appdata\\local\\programs\\python\\python38\\lib\\site-packages\\xgboost\\data.py:173: FutureWarning: pandas.Int64Index is deprecated and will be removed from pandas in a future version. Use pandas.Index with the appropriate dtype instead.\n",
      "  from pandas import MultiIndex, Int64Index\n",
      "c:\\users\\jacob\\appdata\\local\\programs\\python\\python38\\lib\\site-packages\\xgboost\\data.py:173: FutureWarning: pandas.Int64Index is deprecated and will be removed from pandas in a future version. Use pandas.Index with the appropriate dtype instead.\n",
      "  from pandas import MultiIndex, Int64Index\n",
      "c:\\users\\jacob\\appdata\\local\\programs\\python\\python38\\lib\\site-packages\\xgboost\\data.py:173: FutureWarning: pandas.Int64Index is deprecated and will be removed from pandas in a future version. Use pandas.Index with the appropriate dtype instead.\n",
      "  from pandas import MultiIndex, Int64Index\n",
      "c:\\users\\jacob\\appdata\\local\\programs\\python\\python38\\lib\\site-packages\\xgboost\\data.py:173: FutureWarning: pandas.Int64Index is deprecated and will be removed from pandas in a future version. Use pandas.Index with the appropriate dtype instead.\n",
      "  from pandas import MultiIndex, Int64Index\n"
     ]
    },
    {
     "name": "stdout",
     "output_type": "stream",
     "text": [
      "10-fold cross validation average accuracy of the XGBoost classifier model: 0.950\n"
     ]
    }
   ],
   "source": [
    "kfold = model_selection.KFold(n_splits=10, shuffle=True, random_state=42)\n",
    "modelCV = grid_cv\n",
    "scoring = 'accuracy'\n",
    "results = model_selection.cross_val_score(modelCV, X_train, y_train, cv=kfold, scoring=scoring)\n",
    "print('10-fold cross validation average accuracy of the XGBoost classifier model: %.3f' % (results.mean()))"
   ]
  },
  {
   "cell_type": "markdown",
   "metadata": {},
   "source": [
    "# Machine Learning Conclusion\n",
    "### Conclusion\n",
    "\n",
    "* Logistic Regression has the best recall score among all algorithm that we tried in this notebook\n",
    "Please, note that of the three algorithms (Logistic Regression, Random Forest, and XG Boost) chosen, XG Boost is the best classifier by ROC curve which purely shows the classifier with an **AUC** score (96%)\n",
    "\n",
    "\n",
    "* When a transaction was fraudulent, how often does my classifier predict that correctly? This is measured by **recall** and a quick look at these outcomes demonstrate that XG Boost and Random forest is clearly best for this criterion. Out of all the fraudulent cases, XG Boost and Random Forest correctly retrieved 78250 out of 78757 and 78201 out of 78757 for both algorithms respectively. This translates to a turnover recall of  99% (1142/1189), better than logistic regression.\n",
    "\n",
    "\n",
    "* Lastly, when a classifier predicts a transaction will be fraudulent, how often is that transaction actually fraudulent? This is measured by **precision** and both XG Boost and Random Forest is about 98% precision.\n",
    "\n",
    "\n",
    "### Reason for choosingXG Boost\n",
    "\n",
    "* The boosting algorithm leverages information from weak learners and creates strong learners and it gets better per node while the bagging like a random forest creates several decision trees and does an aggregate which is why it’s a Bootstrap AGGregation (how BAGGING was derived ) technique. I could have chosen to go with that but a weak learner in the subsamples of decision trees will affect the aggregate while boosting will use the previous tree to come up with a better tree.\n",
    "\n",
    "\n",
    "* Also, from experience and research, xgboost has proven to be the best at tabular data followed closely by catboost.\n"
   ]
  },
  {
   "cell_type": "code",
   "execution_count": null,
   "metadata": {},
   "outputs": [],
   "source": []
  }
 ],
 "metadata": {
  "kernelspec": {
   "display_name": "Python 3 (ipykernel)",
   "language": "python",
   "name": "python3"
  },
  "language_info": {
   "codemirror_mode": {
    "name": "ipython",
    "version": 3
   },
   "file_extension": ".py",
   "mimetype": "text/x-python",
   "name": "python",
   "nbconvert_exporter": "python",
   "pygments_lexer": "ipython3",
   "version": "3.9.12"
  }
 },
 "nbformat": 4,
 "nbformat_minor": 4
}
